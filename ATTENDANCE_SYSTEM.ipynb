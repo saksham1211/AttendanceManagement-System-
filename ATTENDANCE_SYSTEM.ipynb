{
  "nbformat": 4,
  "nbformat_minor": 0,
  "metadata": {
    "colab": {
      "name": "ATTENDANCE SYSTEM.ipynb",
      "provenance": [],
      "collapsed_sections": [],
      "authorship_tag": "ABX9TyMky5FcRCa7VSJr0JApEJ75",
      "include_colab_link": true
    },
    "kernelspec": {
      "name": "python3",
      "display_name": "Python 3"
    }
  },
  "cells": [
    {
      "cell_type": "markdown",
      "metadata": {
        "id": "view-in-github",
        "colab_type": "text"
      },
      "source": [
        "<a href=\"https://colab.research.google.com/github/saksham1211/AttendanceManagement-System-/blob/master/ATTENDANCE_SYSTEM.ipynb\" target=\"_parent\"><img src=\"https://colab.research.google.com/assets/colab-badge.svg\" alt=\"Open In Colab\"/></a>"
      ]
    },
    {
      "cell_type": "markdown",
      "metadata": {
        "id": "RggLRTj5tc1x",
        "colab_type": "text"
      },
      "source": [
        "# **ATTENDANCE MANAGMENT SYSTEM**\n",
        "USING ZOOM CHAT ROOM"
      ]
    },
    {
      "cell_type": "code",
      "metadata": {
        "id": "zOUWnWavamUk",
        "colab_type": "code",
        "colab": {}
      },
      "source": [
        "import pandas as pd"
      ],
      "execution_count": 0,
      "outputs": []
    },
    {
      "cell_type": "code",
      "metadata": {
        "id": "qoIl57vycf-Q",
        "colab_type": "code",
        "colab": {}
      },
      "source": [
        "f = open('chat.txt', 'r')"
      ],
      "execution_count": 0,
      "outputs": []
    },
    {
      "cell_type": "code",
      "metadata": {
        "id": "dkE4ATU8ckiU",
        "colab_type": "code",
        "colab": {}
      },
      "source": [
        "each_chat = []\n",
        "for i in f.readlines():\n",
        "  each_chat.append(i)  "
      ],
      "execution_count": 0,
      "outputs": []
    },
    {
      "cell_type": "code",
      "metadata": {
        "id": "0S8vaK2mczXf",
        "colab_type": "code",
        "outputId": "d7db36dc-8302-46f1-9ad5-852b076a70e6",
        "colab": {
          "base_uri": "https://localhost:8080/",
          "height": 1000
        }
      },
      "source": [
        "each_chat"
      ],
      "execution_count": 7,
      "outputs": [
        {
          "output_type": "execute_result",
          "data": {
            "text/plain": [
              "['11:29:28\\t From  Dhruv Nimbalkar   to   Usha Dubey(Privately) : mam you have muted yourself\\n',\n",
              " '11:30:15\\t From  Usha Dubey   to   Dhruv Nimbalkar(Privately) : FOR ATTENDANCE WRITE YOUR NAME AND ROLL NUMBER IN CHAT FORUM.\\n',\n",
              " '11:30:25\\t From  Usha Dubey : FOR ATTENDANCE WRITE YOUR NAME AND ROLL NUMBER IN CHAT FORUM.\\n',\n",
              " '\\n',\n",
              " '11:30:39\\t From  Pranjal Srivastava : Pranjal Srivastava \\n',\n",
              " '11:30:45\\t From  Pranshu Sharma : pr\\n',\n",
              " '11:30:51\\t From  Jagriti Gupta   to   Usha Dubey(Privately) : jagriti Gupta \\n',\n",
              " '11:30:53\\t From  Shashwat Jain : shashwat jain\\n',\n",
              " '38\\n',\n",
              " '11:30:58\\t From  Pranjal Srivastava : 10127 oranjal\\n',\n",
              " '11:30:59\\t From  Pranshu Sharma : Pranshu Sharma\\n',\n",
              " '11:31:01\\t From  Pranjal Srivastava : Pranjal\\n',\n",
              " '11:31:04\\t From  Drishti   to   Usha Dubey(Privately) : Drishti Aggarwal \\n',\n",
              " '9\\n',\n",
              " '11:31:04\\t From  Jagriti Gupta   to   Usha Dubey(Privately) : roll no.  12 Jagriti Gupta \\n',\n",
              " '11:31:11\\t From  Samaksh X A : Samaksh Rana\\n',\n",
              " '11:31:11\\t From  Bhavya Malik : bhavyamalik-10106\\n',\n",
              " '11:31:11\\t From  Dhruv Nimbalkar   to   Usha Dubey(Privately) : Dhruv \\n',\n",
              " '11:31:22\\t From  Moksh Singh : Moksh Singh [R.no10119]\\n',\n",
              " '11:31:22\\t From  Punya Malhotra : Punya Malhotra\\n',\n",
              " '30\\n',\n",
              " '11:31:22\\t From  Nikhil Khandelwal : Nikhil khandelwal\\n',\n",
              " '11:31:22\\t From  PULKIT : PULKIT\\n',\n",
              " '10129\\n',\n",
              " '11:31:23\\t From  Pranshu Sharma : 10128 pranshu\\n',\n",
              " '11:31:23\\t From  Sheetal Pathak   to   Usha Dubey(Privately) : sheetal pathak ;   class -10th A\\n',\n",
              " '11:31:23\\t From  Vinayak XA : Vinayak roll\\n',\n",
              " ' no 42\\n',\n",
              " '\\n',\n",
              " '11:31:26\\t From  Kabir Lamba : Kabir lamba. 10113\\n',\n",
              " '11:31:40\\t From  Saksham S. : Saksham Sankhla,Roll No - 33\\n',\n",
              " '11:31:41\\t From  Saubhagya Kaushal : Saubhagya \\n',\n",
              " '11:31:43\\t From  Mehek punyani : mehek punyani-10118\\n',\n",
              " '11:31:45\\t From  Sambhav Gupta : Sambhav Gupta of class X-A Roll no. 35\\n',\n",
              " '11:31:56\\t From  Tiya : Tiya-40\\n',\n",
              " '11:32:04\\t From  Poorva Mangla : Poorva Mangla-24\\n',\n",
              " '11:32:12\\t From  Aakriti Bhatt : AAKRITI BHATT   [roll no. -1]\\n',\n",
              " '11:32:34\\t From  piyush : piyush-23\\n',\n",
              " '11:32:34\\t From  Yash : yash 43\\n',\n",
              " '11:32:34\\t From  PALAK GUPTA : palak gupta (x-a) roll no.22\\n',\n",
              " '11:32:34\\t From  Vansh rana :  Vansh Rana 41\\n',\n",
              " '11:32:34\\t From  Akshat Tanwar : Akshat tanwar (roll no.- 1)\\n',\n",
              " '11:32:34\\t From  Lakshay garg : lakshay garg (roll no.15)\\n',\n",
              " '11:32:39\\t From  Ananya Sonar : Ananya Sonar [roll no.4]\\n',\n",
              " '11:32:50\\t From  Sheetal Pathak : shetal \\n',\n",
              " '11:32:52\\t From  Sanya X A   to   Usha Dubey(Privately) : sanya Gera X A 36\\n',\n",
              " '11:33:06\\t From  Akshat Tanwar : Akshat tanwar (roll no. 3)\\n',\n",
              " '11:33:08\\t From  Love Goyal (X-A) : Love Goyal (roll no.17)\\n',\n",
              " '11:33:08\\t From  Drishti : Drishti (roll no.9)\\n',\n",
              " '11:33:11\\t From  Sanya X A : sanya Gera X A 36\\n',\n",
              " '11:33:32\\t From  Dhruv Nimbalkar : Dhruv 10108 X A\\n',\n",
              " '11:33:45\\t From  Sheetal Pathak : sheetal pathak (x-A) roll no. 39\\n',\n",
              " '11:34:37\\t From  Nikhil Khandelwal : Nikhil Khandelwal Roll no. — 21\\n',\n",
              " '11:34:50\\t From  Saksham Chauhan : SAKSHAM CHAUHAN rool no\\n',\n",
              " '11:35:00\\t From  Saksham Chauhan : 32\\n',\n",
              " '11:35:31\\t From  Arnav Jain : ARNAV JAIN X A ROLL NO. 10105\\n',\n",
              " '11:39:08\\t From  Yash : hn\\n',\n",
              " '11:39:41\\t From  Dhruv Nimbalkar   to   Usha Dubey(Privately) : mam reactant ka O2  product me O kese hua\\n',\n",
              " '11:40:35\\t From  Akshat Tanwar : pls switch off your mic\\n',\n",
              " \"11:44:57\\t From  Akshat Tanwar : yes ma'am \\n\",\n",
              " '11:45:26\\t From  Akshat Tanwar : everything clear\\n',\n",
              " '11:47:40\\t From  Akshat Tanwar : slaked lime\\n',\n",
              " '11:47:51\\t From  Akshat Tanwar : lime water\\n',\n",
              " '11:50:39\\t From  Shashwat Jain   to   Usha Dubey(Privately) : mam is the reaction of white washing also a exothermic reaction also ??\\n',\n",
              " '11:52:49\\t From  Akshat Tanwar : photolytic decomposition \\n',\n",
              " '11:56:18\\t From  Shashwat Jain   to   Usha Dubey(Privately) : no mam\\n',\n",
              " '11:56:28\\t From  Shashwat Jain   to   Usha Dubey(Privately) : every thing is clear\\n',\n",
              " '11:57:24\\t From  Shashwat Jain   to   Usha Dubey(Privately) : no mam\\n',\n",
              " '11:58:00\\t From  Dhruv Nimbalkar : ok mam\\n',\n",
              " '11:58:15\\t From  Love Goyal (X-A) : ok\\n',\n",
              " '11:58:52\\t From  Shashwat Jain : ok mam\\n']"
            ]
          },
          "metadata": {
            "tags": []
          },
          "execution_count": 7
        }
      ]
    },
    {
      "cell_type": "code",
      "metadata": {
        "id": "yaTvjfFPc9F4",
        "colab_type": "code",
        "colab": {}
      },
      "source": [
        "time_stamp = []"
      ],
      "execution_count": 0,
      "outputs": []
    },
    {
      "cell_type": "code",
      "metadata": {
        "id": "_hxu7uFEdEWX",
        "colab_type": "code",
        "colab": {}
      },
      "source": [
        "rest=[]"
      ],
      "execution_count": 0,
      "outputs": []
    },
    {
      "cell_type": "code",
      "metadata": {
        "id": "jmXkKDAZdFdz",
        "colab_type": "code",
        "colab": {}
      },
      "source": [
        "for chat in each_chat:\n",
        "  if  'From' in chat:\n",
        "    time_stamp.append(chat.split('From')[0][:-2])\n",
        "    rest.append(chat.split('From')[1])"
      ],
      "execution_count": 0,
      "outputs": []
    },
    {
      "cell_type": "code",
      "metadata": {
        "id": "YI7Ru3Xldu7o",
        "colab_type": "code",
        "outputId": "2d8341c9-a4aa-4e92-8817-a166a9b01f0b",
        "colab": {
          "base_uri": "https://localhost:8080/",
          "height": 34
        }
      },
      "source": [
        "time_stamp[:5]"
      ],
      "execution_count": 11,
      "outputs": [
        {
          "output_type": "execute_result",
          "data": {
            "text/plain": [
              "['11:29:28', '11:30:15', '11:30:25', '11:30:39', '11:30:45']"
            ]
          },
          "metadata": {
            "tags": []
          },
          "execution_count": 11
        }
      ]
    },
    {
      "cell_type": "code",
      "metadata": {
        "id": "cNhALW93dxOC",
        "colab_type": "code",
        "outputId": "bc38b621-ecc4-448f-d3ca-7b78848d9cf0",
        "colab": {
          "base_uri": "https://localhost:8080/",
          "height": 102
        }
      },
      "source": [
        "rest[:5]"
      ],
      "execution_count": 12,
      "outputs": [
        {
          "output_type": "execute_result",
          "data": {
            "text/plain": [
              "['  Dhruv Nimbalkar   to   Usha Dubey(Privately) : mam you have muted yourself\\n',\n",
              " '  Usha Dubey   to   Dhruv Nimbalkar(Privately) : FOR ATTENDANCE WRITE YOUR NAME AND ROLL NUMBER IN CHAT FORUM.\\n',\n",
              " '  Usha Dubey : FOR ATTENDANCE WRITE YOUR NAME AND ROLL NUMBER IN CHAT FORUM.\\n',\n",
              " '  Pranjal Srivastava : Pranjal Srivastava \\n',\n",
              " '  Pranshu Sharma : pr\\n']"
            ]
          },
          "metadata": {
            "tags": []
          },
          "execution_count": 12
        }
      ]
    },
    {
      "cell_type": "code",
      "metadata": {
        "id": "kP4CoiTqdzF_",
        "colab_type": "code",
        "colab": {}
      },
      "source": [
        "from_index = []"
      ],
      "execution_count": 0,
      "outputs": []
    },
    {
      "cell_type": "code",
      "metadata": {
        "id": "ykDtp5jqd2kV",
        "colab_type": "code",
        "colab": {}
      },
      "source": [
        "to_index=[]"
      ],
      "execution_count": 0,
      "outputs": []
    },
    {
      "cell_type": "code",
      "metadata": {
        "id": "XboCXPJUd3_U",
        "colab_type": "code",
        "colab": {}
      },
      "source": [
        "msg = []"
      ],
      "execution_count": 0,
      "outputs": []
    },
    {
      "cell_type": "code",
      "metadata": {
        "id": "CA4vV_Htd5Fu",
        "colab_type": "code",
        "colab": {}
      },
      "source": [
        "for chat in rest:\n",
        "  c= chat.split(':')\n",
        "  inds=c[0]\n",
        "  msg.append(c[1][:-2])\n",
        "  if 'to' in inds:\n",
        "    two = inds.split('to')\n",
        "    from_index.append(two[0].title())\n",
        "    to_index.append(two[1].title())\n",
        "  else:\n",
        "    from_index.append(inds.title())\n",
        "    to_index.append('All')"
      ],
      "execution_count": 0,
      "outputs": []
    },
    {
      "cell_type": "code",
      "metadata": {
        "id": "EhiFjm-ze4RT",
        "colab_type": "code",
        "outputId": "492bb297-977a-4597-805b-50748772a582",
        "colab": {
          "base_uri": "https://localhost:8080/",
          "height": 102
        }
      },
      "source": [
        "from_index[:5]"
      ],
      "execution_count": 17,
      "outputs": [
        {
          "output_type": "execute_result",
          "data": {
            "text/plain": [
              "['  Dhruv Nimbalkar   ',\n",
              " '  Usha Dubey   ',\n",
              " '  Usha Dubey ',\n",
              " '  Pranjal Srivastava ',\n",
              " '  Pranshu Sharma ']"
            ]
          },
          "metadata": {
            "tags": []
          },
          "execution_count": 17
        }
      ]
    },
    {
      "cell_type": "code",
      "metadata": {
        "id": "wyXULzeLe-Er",
        "colab_type": "code",
        "outputId": "66cfaa18-0ce8-4a03-b789-6cac7f416da0",
        "colab": {
          "base_uri": "https://localhost:8080/",
          "height": 102
        }
      },
      "source": [
        "to_index[:5]"
      ],
      "execution_count": 18,
      "outputs": [
        {
          "output_type": "execute_result",
          "data": {
            "text/plain": [
              "['   Usha Dubey(Privately) ',\n",
              " '   Dhruv Nimbalkar(Privately) ',\n",
              " 'All',\n",
              " 'All',\n",
              " 'All']"
            ]
          },
          "metadata": {
            "tags": []
          },
          "execution_count": 18
        }
      ]
    },
    {
      "cell_type": "code",
      "metadata": {
        "id": "WK17wBWJfBSA",
        "colab_type": "code",
        "outputId": "2769f371-8a7b-404a-81da-8c1d752f1b45",
        "colab": {
          "base_uri": "https://localhost:8080/",
          "height": 102
        }
      },
      "source": [
        "msg[:5]"
      ],
      "execution_count": 19,
      "outputs": [
        {
          "output_type": "execute_result",
          "data": {
            "text/plain": [
              "[' mam you have muted yoursel',\n",
              " ' FOR ATTENDANCE WRITE YOUR NAME AND ROLL NUMBER IN CHAT FORUM',\n",
              " ' FOR ATTENDANCE WRITE YOUR NAME AND ROLL NUMBER IN CHAT FORUM',\n",
              " ' Pranjal Srivastava',\n",
              " ' p']"
            ]
          },
          "metadata": {
            "tags": []
          },
          "execution_count": 19
        }
      ]
    },
    {
      "cell_type": "code",
      "metadata": {
        "id": "lTzPYCN0fDJq",
        "colab_type": "code",
        "colab": {}
      },
      "source": [
        "data = {'TIME STAMP':time_stamp, 'FROM': from_index, 'TO':to_index, 'MESSAGE':msg}\n",
        "df = pd.DataFrame(data)"
      ],
      "execution_count": 0,
      "outputs": []
    },
    {
      "cell_type": "code",
      "metadata": {
        "id": "pBXzFjSffTzv",
        "colab_type": "code",
        "outputId": "4622ef56-6d57-4d71-b3af-3610aaae727e",
        "colab": {
          "base_uri": "https://localhost:8080/",
          "height": 204
        }
      },
      "source": [
        "df.head()"
      ],
      "execution_count": 21,
      "outputs": [
        {
          "output_type": "execute_result",
          "data": {
            "text/html": [
              "<div>\n",
              "<style scoped>\n",
              "    .dataframe tbody tr th:only-of-type {\n",
              "        vertical-align: middle;\n",
              "    }\n",
              "\n",
              "    .dataframe tbody tr th {\n",
              "        vertical-align: top;\n",
              "    }\n",
              "\n",
              "    .dataframe thead th {\n",
              "        text-align: right;\n",
              "    }\n",
              "</style>\n",
              "<table border=\"1\" class=\"dataframe\">\n",
              "  <thead>\n",
              "    <tr style=\"text-align: right;\">\n",
              "      <th></th>\n",
              "      <th>TIME STAMP</th>\n",
              "      <th>FROM</th>\n",
              "      <th>TO</th>\n",
              "      <th>MESSAGE</th>\n",
              "    </tr>\n",
              "  </thead>\n",
              "  <tbody>\n",
              "    <tr>\n",
              "      <th>0</th>\n",
              "      <td>11:29:28</td>\n",
              "      <td>Dhruv Nimbalkar</td>\n",
              "      <td>Usha Dubey(Privately)</td>\n",
              "      <td>mam you have muted yoursel</td>\n",
              "    </tr>\n",
              "    <tr>\n",
              "      <th>1</th>\n",
              "      <td>11:30:15</td>\n",
              "      <td>Usha Dubey</td>\n",
              "      <td>Dhruv Nimbalkar(Privately)</td>\n",
              "      <td>FOR ATTENDANCE WRITE YOUR NAME AND ROLL NUMBE...</td>\n",
              "    </tr>\n",
              "    <tr>\n",
              "      <th>2</th>\n",
              "      <td>11:30:25</td>\n",
              "      <td>Usha Dubey</td>\n",
              "      <td>All</td>\n",
              "      <td>FOR ATTENDANCE WRITE YOUR NAME AND ROLL NUMBE...</td>\n",
              "    </tr>\n",
              "    <tr>\n",
              "      <th>3</th>\n",
              "      <td>11:30:39</td>\n",
              "      <td>Pranjal Srivastava</td>\n",
              "      <td>All</td>\n",
              "      <td>Pranjal Srivastava</td>\n",
              "    </tr>\n",
              "    <tr>\n",
              "      <th>4</th>\n",
              "      <td>11:30:45</td>\n",
              "      <td>Pranshu Sharma</td>\n",
              "      <td>All</td>\n",
              "      <td>p</td>\n",
              "    </tr>\n",
              "  </tbody>\n",
              "</table>\n",
              "</div>"
            ],
            "text/plain": [
              "  TIME STAMP  ...                                            MESSAGE\n",
              "0   11:29:28  ...                         mam you have muted yoursel\n",
              "1   11:30:15  ...   FOR ATTENDANCE WRITE YOUR NAME AND ROLL NUMBE...\n",
              "2   11:30:25  ...   FOR ATTENDANCE WRITE YOUR NAME AND ROLL NUMBE...\n",
              "3   11:30:39  ...                                 Pranjal Srivastava\n",
              "4   11:30:45  ...                                                  p\n",
              "\n",
              "[5 rows x 4 columns]"
            ]
          },
          "metadata": {
            "tags": []
          },
          "execution_count": 21
        }
      ]
    },
    {
      "cell_type": "code",
      "metadata": {
        "id": "3I8K_0v0fVRd",
        "colab_type": "code",
        "colab": {}
      },
      "source": [
        "df.insert(4, 'ATTENDANCE', 'PRESENT', True)"
      ],
      "execution_count": 0,
      "outputs": []
    },
    {
      "cell_type": "code",
      "metadata": {
        "id": "NZ8wNkLKfufK",
        "colab_type": "code",
        "outputId": "c696e6c0-fbcd-4a13-f20c-156f9db5397a",
        "colab": {
          "base_uri": "https://localhost:8080/",
          "height": 34
        }
      },
      "source": [
        "df.shape"
      ],
      "execution_count": 23,
      "outputs": [
        {
          "output_type": "execute_result",
          "data": {
            "text/plain": [
              "(64, 5)"
            ]
          },
          "metadata": {
            "tags": []
          },
          "execution_count": 23
        }
      ]
    },
    {
      "cell_type": "code",
      "metadata": {
        "id": "pFWV_mkpgtbf",
        "colab_type": "code",
        "outputId": "255b1a8a-9771-4f7d-956b-5830febe8e65",
        "colab": {
          "base_uri": "https://localhost:8080/",
          "height": 419
        }
      },
      "source": [
        "df"
      ],
      "execution_count": 24,
      "outputs": [
        {
          "output_type": "execute_result",
          "data": {
            "text/html": [
              "<div>\n",
              "<style scoped>\n",
              "    .dataframe tbody tr th:only-of-type {\n",
              "        vertical-align: middle;\n",
              "    }\n",
              "\n",
              "    .dataframe tbody tr th {\n",
              "        vertical-align: top;\n",
              "    }\n",
              "\n",
              "    .dataframe thead th {\n",
              "        text-align: right;\n",
              "    }\n",
              "</style>\n",
              "<table border=\"1\" class=\"dataframe\">\n",
              "  <thead>\n",
              "    <tr style=\"text-align: right;\">\n",
              "      <th></th>\n",
              "      <th>TIME STAMP</th>\n",
              "      <th>FROM</th>\n",
              "      <th>TO</th>\n",
              "      <th>MESSAGE</th>\n",
              "      <th>ATTENDANCE</th>\n",
              "    </tr>\n",
              "  </thead>\n",
              "  <tbody>\n",
              "    <tr>\n",
              "      <th>0</th>\n",
              "      <td>11:29:28</td>\n",
              "      <td>Dhruv Nimbalkar</td>\n",
              "      <td>Usha Dubey(Privately)</td>\n",
              "      <td>mam you have muted yoursel</td>\n",
              "      <td>PRESENT</td>\n",
              "    </tr>\n",
              "    <tr>\n",
              "      <th>1</th>\n",
              "      <td>11:30:15</td>\n",
              "      <td>Usha Dubey</td>\n",
              "      <td>Dhruv Nimbalkar(Privately)</td>\n",
              "      <td>FOR ATTENDANCE WRITE YOUR NAME AND ROLL NUMBE...</td>\n",
              "      <td>PRESENT</td>\n",
              "    </tr>\n",
              "    <tr>\n",
              "      <th>2</th>\n",
              "      <td>11:30:25</td>\n",
              "      <td>Usha Dubey</td>\n",
              "      <td>All</td>\n",
              "      <td>FOR ATTENDANCE WRITE YOUR NAME AND ROLL NUMBE...</td>\n",
              "      <td>PRESENT</td>\n",
              "    </tr>\n",
              "    <tr>\n",
              "      <th>3</th>\n",
              "      <td>11:30:39</td>\n",
              "      <td>Pranjal Srivastava</td>\n",
              "      <td>All</td>\n",
              "      <td>Pranjal Srivastava</td>\n",
              "      <td>PRESENT</td>\n",
              "    </tr>\n",
              "    <tr>\n",
              "      <th>4</th>\n",
              "      <td>11:30:45</td>\n",
              "      <td>Pranshu Sharma</td>\n",
              "      <td>All</td>\n",
              "      <td>p</td>\n",
              "      <td>PRESENT</td>\n",
              "    </tr>\n",
              "    <tr>\n",
              "      <th>...</th>\n",
              "      <td>...</td>\n",
              "      <td>...</td>\n",
              "      <td>...</td>\n",
              "      <td>...</td>\n",
              "      <td>...</td>\n",
              "    </tr>\n",
              "    <tr>\n",
              "      <th>59</th>\n",
              "      <td>11:56:28</td>\n",
              "      <td>Shashwat Jain</td>\n",
              "      <td>Usha Dubey(Privately)</td>\n",
              "      <td>every thing is clea</td>\n",
              "      <td>PRESENT</td>\n",
              "    </tr>\n",
              "    <tr>\n",
              "      <th>60</th>\n",
              "      <td>11:57:24</td>\n",
              "      <td>Shashwat Jain</td>\n",
              "      <td>Usha Dubey(Privately)</td>\n",
              "      <td>no ma</td>\n",
              "      <td>PRESENT</td>\n",
              "    </tr>\n",
              "    <tr>\n",
              "      <th>61</th>\n",
              "      <td>11:58:00</td>\n",
              "      <td>Dhruv Nimbalkar</td>\n",
              "      <td>All</td>\n",
              "      <td>ok ma</td>\n",
              "      <td>PRESENT</td>\n",
              "    </tr>\n",
              "    <tr>\n",
              "      <th>62</th>\n",
              "      <td>11:58:15</td>\n",
              "      <td>Love Goyal (X-A)</td>\n",
              "      <td>All</td>\n",
              "      <td>o</td>\n",
              "      <td>PRESENT</td>\n",
              "    </tr>\n",
              "    <tr>\n",
              "      <th>63</th>\n",
              "      <td>11:58:52</td>\n",
              "      <td>Shashwat Jain</td>\n",
              "      <td>All</td>\n",
              "      <td>ok ma</td>\n",
              "      <td>PRESENT</td>\n",
              "    </tr>\n",
              "  </tbody>\n",
              "</table>\n",
              "<p>64 rows × 5 columns</p>\n",
              "</div>"
            ],
            "text/plain": [
              "   TIME STAMP  ... ATTENDANCE\n",
              "0    11:29:28  ...    PRESENT\n",
              "1    11:30:15  ...    PRESENT\n",
              "2    11:30:25  ...    PRESENT\n",
              "3    11:30:39  ...    PRESENT\n",
              "4    11:30:45  ...    PRESENT\n",
              "..        ...  ...        ...\n",
              "59   11:56:28  ...    PRESENT\n",
              "60   11:57:24  ...    PRESENT\n",
              "61   11:58:00  ...    PRESENT\n",
              "62   11:58:15  ...    PRESENT\n",
              "63   11:58:52  ...    PRESENT\n",
              "\n",
              "[64 rows x 5 columns]"
            ]
          },
          "metadata": {
            "tags": []
          },
          "execution_count": 24
        }
      ]
    },
    {
      "cell_type": "code",
      "metadata": {
        "id": "hR7KGpM2guSl",
        "colab_type": "code",
        "outputId": "f9fd5e35-8b21-4249-c9ff-d7c3bb3532d1",
        "colab": {
          "base_uri": "https://localhost:8080/",
          "height": 419
        }
      },
      "source": [
        "df[:][1:]"
      ],
      "execution_count": 25,
      "outputs": [
        {
          "output_type": "execute_result",
          "data": {
            "text/html": [
              "<div>\n",
              "<style scoped>\n",
              "    .dataframe tbody tr th:only-of-type {\n",
              "        vertical-align: middle;\n",
              "    }\n",
              "\n",
              "    .dataframe tbody tr th {\n",
              "        vertical-align: top;\n",
              "    }\n",
              "\n",
              "    .dataframe thead th {\n",
              "        text-align: right;\n",
              "    }\n",
              "</style>\n",
              "<table border=\"1\" class=\"dataframe\">\n",
              "  <thead>\n",
              "    <tr style=\"text-align: right;\">\n",
              "      <th></th>\n",
              "      <th>TIME STAMP</th>\n",
              "      <th>FROM</th>\n",
              "      <th>TO</th>\n",
              "      <th>MESSAGE</th>\n",
              "      <th>ATTENDANCE</th>\n",
              "    </tr>\n",
              "  </thead>\n",
              "  <tbody>\n",
              "    <tr>\n",
              "      <th>1</th>\n",
              "      <td>11:30:15</td>\n",
              "      <td>Usha Dubey</td>\n",
              "      <td>Dhruv Nimbalkar(Privately)</td>\n",
              "      <td>FOR ATTENDANCE WRITE YOUR NAME AND ROLL NUMBE...</td>\n",
              "      <td>PRESENT</td>\n",
              "    </tr>\n",
              "    <tr>\n",
              "      <th>2</th>\n",
              "      <td>11:30:25</td>\n",
              "      <td>Usha Dubey</td>\n",
              "      <td>All</td>\n",
              "      <td>FOR ATTENDANCE WRITE YOUR NAME AND ROLL NUMBE...</td>\n",
              "      <td>PRESENT</td>\n",
              "    </tr>\n",
              "    <tr>\n",
              "      <th>3</th>\n",
              "      <td>11:30:39</td>\n",
              "      <td>Pranjal Srivastava</td>\n",
              "      <td>All</td>\n",
              "      <td>Pranjal Srivastava</td>\n",
              "      <td>PRESENT</td>\n",
              "    </tr>\n",
              "    <tr>\n",
              "      <th>4</th>\n",
              "      <td>11:30:45</td>\n",
              "      <td>Pranshu Sharma</td>\n",
              "      <td>All</td>\n",
              "      <td>p</td>\n",
              "      <td>PRESENT</td>\n",
              "    </tr>\n",
              "    <tr>\n",
              "      <th>5</th>\n",
              "      <td>11:30:51</td>\n",
              "      <td>Jagriti Gupta</td>\n",
              "      <td>Usha Dubey(Privately)</td>\n",
              "      <td>jagriti Gupta</td>\n",
              "      <td>PRESENT</td>\n",
              "    </tr>\n",
              "    <tr>\n",
              "      <th>...</th>\n",
              "      <td>...</td>\n",
              "      <td>...</td>\n",
              "      <td>...</td>\n",
              "      <td>...</td>\n",
              "      <td>...</td>\n",
              "    </tr>\n",
              "    <tr>\n",
              "      <th>59</th>\n",
              "      <td>11:56:28</td>\n",
              "      <td>Shashwat Jain</td>\n",
              "      <td>Usha Dubey(Privately)</td>\n",
              "      <td>every thing is clea</td>\n",
              "      <td>PRESENT</td>\n",
              "    </tr>\n",
              "    <tr>\n",
              "      <th>60</th>\n",
              "      <td>11:57:24</td>\n",
              "      <td>Shashwat Jain</td>\n",
              "      <td>Usha Dubey(Privately)</td>\n",
              "      <td>no ma</td>\n",
              "      <td>PRESENT</td>\n",
              "    </tr>\n",
              "    <tr>\n",
              "      <th>61</th>\n",
              "      <td>11:58:00</td>\n",
              "      <td>Dhruv Nimbalkar</td>\n",
              "      <td>All</td>\n",
              "      <td>ok ma</td>\n",
              "      <td>PRESENT</td>\n",
              "    </tr>\n",
              "    <tr>\n",
              "      <th>62</th>\n",
              "      <td>11:58:15</td>\n",
              "      <td>Love Goyal (X-A)</td>\n",
              "      <td>All</td>\n",
              "      <td>o</td>\n",
              "      <td>PRESENT</td>\n",
              "    </tr>\n",
              "    <tr>\n",
              "      <th>63</th>\n",
              "      <td>11:58:52</td>\n",
              "      <td>Shashwat Jain</td>\n",
              "      <td>All</td>\n",
              "      <td>ok ma</td>\n",
              "      <td>PRESENT</td>\n",
              "    </tr>\n",
              "  </tbody>\n",
              "</table>\n",
              "<p>63 rows × 5 columns</p>\n",
              "</div>"
            ],
            "text/plain": [
              "   TIME STAMP  ... ATTENDANCE\n",
              "1    11:30:15  ...    PRESENT\n",
              "2    11:30:25  ...    PRESENT\n",
              "3    11:30:39  ...    PRESENT\n",
              "4    11:30:45  ...    PRESENT\n",
              "5    11:30:51  ...    PRESENT\n",
              "..        ...  ...        ...\n",
              "59   11:56:28  ...    PRESENT\n",
              "60   11:57:24  ...    PRESENT\n",
              "61   11:58:00  ...    PRESENT\n",
              "62   11:58:15  ...    PRESENT\n",
              "63   11:58:52  ...    PRESENT\n",
              "\n",
              "[63 rows x 5 columns]"
            ]
          },
          "metadata": {
            "tags": []
          },
          "execution_count": 25
        }
      ]
    },
    {
      "cell_type": "code",
      "metadata": {
        "id": "eBdbKqK3hCtO",
        "colab_type": "code",
        "outputId": "96d52668-ee23-42ea-a280-1c687afe7a21",
        "colab": {
          "base_uri": "https://localhost:8080/",
          "height": 204
        }
      },
      "source": [
        "df[['FROM', 'ATTENDANCE']].head()"
      ],
      "execution_count": 26,
      "outputs": [
        {
          "output_type": "execute_result",
          "data": {
            "text/html": [
              "<div>\n",
              "<style scoped>\n",
              "    .dataframe tbody tr th:only-of-type {\n",
              "        vertical-align: middle;\n",
              "    }\n",
              "\n",
              "    .dataframe tbody tr th {\n",
              "        vertical-align: top;\n",
              "    }\n",
              "\n",
              "    .dataframe thead th {\n",
              "        text-align: right;\n",
              "    }\n",
              "</style>\n",
              "<table border=\"1\" class=\"dataframe\">\n",
              "  <thead>\n",
              "    <tr style=\"text-align: right;\">\n",
              "      <th></th>\n",
              "      <th>FROM</th>\n",
              "      <th>ATTENDANCE</th>\n",
              "    </tr>\n",
              "  </thead>\n",
              "  <tbody>\n",
              "    <tr>\n",
              "      <th>0</th>\n",
              "      <td>Dhruv Nimbalkar</td>\n",
              "      <td>PRESENT</td>\n",
              "    </tr>\n",
              "    <tr>\n",
              "      <th>1</th>\n",
              "      <td>Usha Dubey</td>\n",
              "      <td>PRESENT</td>\n",
              "    </tr>\n",
              "    <tr>\n",
              "      <th>2</th>\n",
              "      <td>Usha Dubey</td>\n",
              "      <td>PRESENT</td>\n",
              "    </tr>\n",
              "    <tr>\n",
              "      <th>3</th>\n",
              "      <td>Pranjal Srivastava</td>\n",
              "      <td>PRESENT</td>\n",
              "    </tr>\n",
              "    <tr>\n",
              "      <th>4</th>\n",
              "      <td>Pranshu Sharma</td>\n",
              "      <td>PRESENT</td>\n",
              "    </tr>\n",
              "  </tbody>\n",
              "</table>\n",
              "</div>"
            ],
            "text/plain": [
              "                    FROM ATTENDANCE\n",
              "0     Dhruv Nimbalkar       PRESENT\n",
              "1          Usha Dubey       PRESENT\n",
              "2            Usha Dubey     PRESENT\n",
              "3    Pranjal Srivastava     PRESENT\n",
              "4        Pranshu Sharma     PRESENT"
            ]
          },
          "metadata": {
            "tags": []
          },
          "execution_count": 26
        }
      ]
    },
    {
      "cell_type": "code",
      "metadata": {
        "id": "ygCByUvfhygO",
        "colab_type": "code",
        "outputId": "3a97013c-2d45-40dd-a741-6a4656d5bd9a",
        "colab": {
          "base_uri": "https://localhost:8080/",
          "height": 34
        }
      },
      "source": [
        "df.shape\n"
      ],
      "execution_count": 27,
      "outputs": [
        {
          "output_type": "execute_result",
          "data": {
            "text/plain": [
              "(64, 5)"
            ]
          },
          "metadata": {
            "tags": []
          },
          "execution_count": 27
        }
      ]
    },
    {
      "cell_type": "code",
      "metadata": {
        "id": "auxorjdall45",
        "colab_type": "code",
        "colab": {
          "base_uri": "https://localhost:8080/",
          "height": 419
        },
        "outputId": "ada92c75-7a01-4930-d534-685fa8d6ffd1"
      },
      "source": [
        "df.drop_duplicates()"
      ],
      "execution_count": 28,
      "outputs": [
        {
          "output_type": "execute_result",
          "data": {
            "text/html": [
              "<div>\n",
              "<style scoped>\n",
              "    .dataframe tbody tr th:only-of-type {\n",
              "        vertical-align: middle;\n",
              "    }\n",
              "\n",
              "    .dataframe tbody tr th {\n",
              "        vertical-align: top;\n",
              "    }\n",
              "\n",
              "    .dataframe thead th {\n",
              "        text-align: right;\n",
              "    }\n",
              "</style>\n",
              "<table border=\"1\" class=\"dataframe\">\n",
              "  <thead>\n",
              "    <tr style=\"text-align: right;\">\n",
              "      <th></th>\n",
              "      <th>TIME STAMP</th>\n",
              "      <th>FROM</th>\n",
              "      <th>TO</th>\n",
              "      <th>MESSAGE</th>\n",
              "      <th>ATTENDANCE</th>\n",
              "    </tr>\n",
              "  </thead>\n",
              "  <tbody>\n",
              "    <tr>\n",
              "      <th>0</th>\n",
              "      <td>11:29:28</td>\n",
              "      <td>Dhruv Nimbalkar</td>\n",
              "      <td>Usha Dubey(Privately)</td>\n",
              "      <td>mam you have muted yoursel</td>\n",
              "      <td>PRESENT</td>\n",
              "    </tr>\n",
              "    <tr>\n",
              "      <th>1</th>\n",
              "      <td>11:30:15</td>\n",
              "      <td>Usha Dubey</td>\n",
              "      <td>Dhruv Nimbalkar(Privately)</td>\n",
              "      <td>FOR ATTENDANCE WRITE YOUR NAME AND ROLL NUMBE...</td>\n",
              "      <td>PRESENT</td>\n",
              "    </tr>\n",
              "    <tr>\n",
              "      <th>2</th>\n",
              "      <td>11:30:25</td>\n",
              "      <td>Usha Dubey</td>\n",
              "      <td>All</td>\n",
              "      <td>FOR ATTENDANCE WRITE YOUR NAME AND ROLL NUMBE...</td>\n",
              "      <td>PRESENT</td>\n",
              "    </tr>\n",
              "    <tr>\n",
              "      <th>3</th>\n",
              "      <td>11:30:39</td>\n",
              "      <td>Pranjal Srivastava</td>\n",
              "      <td>All</td>\n",
              "      <td>Pranjal Srivastava</td>\n",
              "      <td>PRESENT</td>\n",
              "    </tr>\n",
              "    <tr>\n",
              "      <th>4</th>\n",
              "      <td>11:30:45</td>\n",
              "      <td>Pranshu Sharma</td>\n",
              "      <td>All</td>\n",
              "      <td>p</td>\n",
              "      <td>PRESENT</td>\n",
              "    </tr>\n",
              "    <tr>\n",
              "      <th>...</th>\n",
              "      <td>...</td>\n",
              "      <td>...</td>\n",
              "      <td>...</td>\n",
              "      <td>...</td>\n",
              "      <td>...</td>\n",
              "    </tr>\n",
              "    <tr>\n",
              "      <th>59</th>\n",
              "      <td>11:56:28</td>\n",
              "      <td>Shashwat Jain</td>\n",
              "      <td>Usha Dubey(Privately)</td>\n",
              "      <td>every thing is clea</td>\n",
              "      <td>PRESENT</td>\n",
              "    </tr>\n",
              "    <tr>\n",
              "      <th>60</th>\n",
              "      <td>11:57:24</td>\n",
              "      <td>Shashwat Jain</td>\n",
              "      <td>Usha Dubey(Privately)</td>\n",
              "      <td>no ma</td>\n",
              "      <td>PRESENT</td>\n",
              "    </tr>\n",
              "    <tr>\n",
              "      <th>61</th>\n",
              "      <td>11:58:00</td>\n",
              "      <td>Dhruv Nimbalkar</td>\n",
              "      <td>All</td>\n",
              "      <td>ok ma</td>\n",
              "      <td>PRESENT</td>\n",
              "    </tr>\n",
              "    <tr>\n",
              "      <th>62</th>\n",
              "      <td>11:58:15</td>\n",
              "      <td>Love Goyal (X-A)</td>\n",
              "      <td>All</td>\n",
              "      <td>o</td>\n",
              "      <td>PRESENT</td>\n",
              "    </tr>\n",
              "    <tr>\n",
              "      <th>63</th>\n",
              "      <td>11:58:52</td>\n",
              "      <td>Shashwat Jain</td>\n",
              "      <td>All</td>\n",
              "      <td>ok ma</td>\n",
              "      <td>PRESENT</td>\n",
              "    </tr>\n",
              "  </tbody>\n",
              "</table>\n",
              "<p>64 rows × 5 columns</p>\n",
              "</div>"
            ],
            "text/plain": [
              "   TIME STAMP  ... ATTENDANCE\n",
              "0    11:29:28  ...    PRESENT\n",
              "1    11:30:15  ...    PRESENT\n",
              "2    11:30:25  ...    PRESENT\n",
              "3    11:30:39  ...    PRESENT\n",
              "4    11:30:45  ...    PRESENT\n",
              "..        ...  ...        ...\n",
              "59   11:56:28  ...    PRESENT\n",
              "60   11:57:24  ...    PRESENT\n",
              "61   11:58:00  ...    PRESENT\n",
              "62   11:58:15  ...    PRESENT\n",
              "63   11:58:52  ...    PRESENT\n",
              "\n",
              "[64 rows x 5 columns]"
            ]
          },
          "metadata": {
            "tags": []
          },
          "execution_count": 28
        }
      ]
    },
    {
      "cell_type": "code",
      "metadata": {
        "id": "rg8mjs5ry1ld",
        "colab_type": "code",
        "colab": {
          "base_uri": "https://localhost:8080/",
          "height": 419
        },
        "outputId": "7215707f-c5a4-4987-e876-674e85d76e89"
      },
      "source": [
        "df.sort_index()"
      ],
      "execution_count": 29,
      "outputs": [
        {
          "output_type": "execute_result",
          "data": {
            "text/html": [
              "<div>\n",
              "<style scoped>\n",
              "    .dataframe tbody tr th:only-of-type {\n",
              "        vertical-align: middle;\n",
              "    }\n",
              "\n",
              "    .dataframe tbody tr th {\n",
              "        vertical-align: top;\n",
              "    }\n",
              "\n",
              "    .dataframe thead th {\n",
              "        text-align: right;\n",
              "    }\n",
              "</style>\n",
              "<table border=\"1\" class=\"dataframe\">\n",
              "  <thead>\n",
              "    <tr style=\"text-align: right;\">\n",
              "      <th></th>\n",
              "      <th>TIME STAMP</th>\n",
              "      <th>FROM</th>\n",
              "      <th>TO</th>\n",
              "      <th>MESSAGE</th>\n",
              "      <th>ATTENDANCE</th>\n",
              "    </tr>\n",
              "  </thead>\n",
              "  <tbody>\n",
              "    <tr>\n",
              "      <th>0</th>\n",
              "      <td>11:29:28</td>\n",
              "      <td>Dhruv Nimbalkar</td>\n",
              "      <td>Usha Dubey(Privately)</td>\n",
              "      <td>mam you have muted yoursel</td>\n",
              "      <td>PRESENT</td>\n",
              "    </tr>\n",
              "    <tr>\n",
              "      <th>1</th>\n",
              "      <td>11:30:15</td>\n",
              "      <td>Usha Dubey</td>\n",
              "      <td>Dhruv Nimbalkar(Privately)</td>\n",
              "      <td>FOR ATTENDANCE WRITE YOUR NAME AND ROLL NUMBE...</td>\n",
              "      <td>PRESENT</td>\n",
              "    </tr>\n",
              "    <tr>\n",
              "      <th>2</th>\n",
              "      <td>11:30:25</td>\n",
              "      <td>Usha Dubey</td>\n",
              "      <td>All</td>\n",
              "      <td>FOR ATTENDANCE WRITE YOUR NAME AND ROLL NUMBE...</td>\n",
              "      <td>PRESENT</td>\n",
              "    </tr>\n",
              "    <tr>\n",
              "      <th>3</th>\n",
              "      <td>11:30:39</td>\n",
              "      <td>Pranjal Srivastava</td>\n",
              "      <td>All</td>\n",
              "      <td>Pranjal Srivastava</td>\n",
              "      <td>PRESENT</td>\n",
              "    </tr>\n",
              "    <tr>\n",
              "      <th>4</th>\n",
              "      <td>11:30:45</td>\n",
              "      <td>Pranshu Sharma</td>\n",
              "      <td>All</td>\n",
              "      <td>p</td>\n",
              "      <td>PRESENT</td>\n",
              "    </tr>\n",
              "    <tr>\n",
              "      <th>...</th>\n",
              "      <td>...</td>\n",
              "      <td>...</td>\n",
              "      <td>...</td>\n",
              "      <td>...</td>\n",
              "      <td>...</td>\n",
              "    </tr>\n",
              "    <tr>\n",
              "      <th>59</th>\n",
              "      <td>11:56:28</td>\n",
              "      <td>Shashwat Jain</td>\n",
              "      <td>Usha Dubey(Privately)</td>\n",
              "      <td>every thing is clea</td>\n",
              "      <td>PRESENT</td>\n",
              "    </tr>\n",
              "    <tr>\n",
              "      <th>60</th>\n",
              "      <td>11:57:24</td>\n",
              "      <td>Shashwat Jain</td>\n",
              "      <td>Usha Dubey(Privately)</td>\n",
              "      <td>no ma</td>\n",
              "      <td>PRESENT</td>\n",
              "    </tr>\n",
              "    <tr>\n",
              "      <th>61</th>\n",
              "      <td>11:58:00</td>\n",
              "      <td>Dhruv Nimbalkar</td>\n",
              "      <td>All</td>\n",
              "      <td>ok ma</td>\n",
              "      <td>PRESENT</td>\n",
              "    </tr>\n",
              "    <tr>\n",
              "      <th>62</th>\n",
              "      <td>11:58:15</td>\n",
              "      <td>Love Goyal (X-A)</td>\n",
              "      <td>All</td>\n",
              "      <td>o</td>\n",
              "      <td>PRESENT</td>\n",
              "    </tr>\n",
              "    <tr>\n",
              "      <th>63</th>\n",
              "      <td>11:58:52</td>\n",
              "      <td>Shashwat Jain</td>\n",
              "      <td>All</td>\n",
              "      <td>ok ma</td>\n",
              "      <td>PRESENT</td>\n",
              "    </tr>\n",
              "  </tbody>\n",
              "</table>\n",
              "<p>64 rows × 5 columns</p>\n",
              "</div>"
            ],
            "text/plain": [
              "   TIME STAMP  ... ATTENDANCE\n",
              "0    11:29:28  ...    PRESENT\n",
              "1    11:30:15  ...    PRESENT\n",
              "2    11:30:25  ...    PRESENT\n",
              "3    11:30:39  ...    PRESENT\n",
              "4    11:30:45  ...    PRESENT\n",
              "..        ...  ...        ...\n",
              "59   11:56:28  ...    PRESENT\n",
              "60   11:57:24  ...    PRESENT\n",
              "61   11:58:00  ...    PRESENT\n",
              "62   11:58:15  ...    PRESENT\n",
              "63   11:58:52  ...    PRESENT\n",
              "\n",
              "[64 rows x 5 columns]"
            ]
          },
          "metadata": {
            "tags": []
          },
          "execution_count": 29
        }
      ]
    },
    {
      "cell_type": "code",
      "metadata": {
        "id": "Bcw1KVwtl2GG",
        "colab_type": "code",
        "colab": {}
      },
      "source": [
        "df1 = df[['FROM', 'ATTENDANCE']]"
      ],
      "execution_count": 0,
      "outputs": []
    },
    {
      "cell_type": "code",
      "metadata": {
        "id": "84Ayxtdgqdmx",
        "colab_type": "code",
        "colab": {
          "base_uri": "https://localhost:8080/",
          "height": 419
        },
        "outputId": "2b227238-4ae6-4ac7-ab76-3db457e265c0"
      },
      "source": [
        "df1"
      ],
      "execution_count": 31,
      "outputs": [
        {
          "output_type": "execute_result",
          "data": {
            "text/html": [
              "<div>\n",
              "<style scoped>\n",
              "    .dataframe tbody tr th:only-of-type {\n",
              "        vertical-align: middle;\n",
              "    }\n",
              "\n",
              "    .dataframe tbody tr th {\n",
              "        vertical-align: top;\n",
              "    }\n",
              "\n",
              "    .dataframe thead th {\n",
              "        text-align: right;\n",
              "    }\n",
              "</style>\n",
              "<table border=\"1\" class=\"dataframe\">\n",
              "  <thead>\n",
              "    <tr style=\"text-align: right;\">\n",
              "      <th></th>\n",
              "      <th>FROM</th>\n",
              "      <th>ATTENDANCE</th>\n",
              "    </tr>\n",
              "  </thead>\n",
              "  <tbody>\n",
              "    <tr>\n",
              "      <th>0</th>\n",
              "      <td>Dhruv Nimbalkar</td>\n",
              "      <td>PRESENT</td>\n",
              "    </tr>\n",
              "    <tr>\n",
              "      <th>1</th>\n",
              "      <td>Usha Dubey</td>\n",
              "      <td>PRESENT</td>\n",
              "    </tr>\n",
              "    <tr>\n",
              "      <th>2</th>\n",
              "      <td>Usha Dubey</td>\n",
              "      <td>PRESENT</td>\n",
              "    </tr>\n",
              "    <tr>\n",
              "      <th>3</th>\n",
              "      <td>Pranjal Srivastava</td>\n",
              "      <td>PRESENT</td>\n",
              "    </tr>\n",
              "    <tr>\n",
              "      <th>4</th>\n",
              "      <td>Pranshu Sharma</td>\n",
              "      <td>PRESENT</td>\n",
              "    </tr>\n",
              "    <tr>\n",
              "      <th>...</th>\n",
              "      <td>...</td>\n",
              "      <td>...</td>\n",
              "    </tr>\n",
              "    <tr>\n",
              "      <th>59</th>\n",
              "      <td>Shashwat Jain</td>\n",
              "      <td>PRESENT</td>\n",
              "    </tr>\n",
              "    <tr>\n",
              "      <th>60</th>\n",
              "      <td>Shashwat Jain</td>\n",
              "      <td>PRESENT</td>\n",
              "    </tr>\n",
              "    <tr>\n",
              "      <th>61</th>\n",
              "      <td>Dhruv Nimbalkar</td>\n",
              "      <td>PRESENT</td>\n",
              "    </tr>\n",
              "    <tr>\n",
              "      <th>62</th>\n",
              "      <td>Love Goyal (X-A)</td>\n",
              "      <td>PRESENT</td>\n",
              "    </tr>\n",
              "    <tr>\n",
              "      <th>63</th>\n",
              "      <td>Shashwat Jain</td>\n",
              "      <td>PRESENT</td>\n",
              "    </tr>\n",
              "  </tbody>\n",
              "</table>\n",
              "<p>64 rows × 2 columns</p>\n",
              "</div>"
            ],
            "text/plain": [
              "                     FROM ATTENDANCE\n",
              "0      Dhruv Nimbalkar       PRESENT\n",
              "1           Usha Dubey       PRESENT\n",
              "2             Usha Dubey     PRESENT\n",
              "3     Pranjal Srivastava     PRESENT\n",
              "4         Pranshu Sharma     PRESENT\n",
              "..                    ...        ...\n",
              "59       Shashwat Jain       PRESENT\n",
              "60       Shashwat Jain       PRESENT\n",
              "61       Dhruv Nimbalkar     PRESENT\n",
              "62      Love Goyal (X-A)     PRESENT\n",
              "63         Shashwat Jain     PRESENT\n",
              "\n",
              "[64 rows x 2 columns]"
            ]
          },
          "metadata": {
            "tags": []
          },
          "execution_count": 31
        }
      ]
    },
    {
      "cell_type": "code",
      "metadata": {
        "id": "wVylkMecsA8S",
        "colab_type": "code",
        "colab": {}
      },
      "source": [
        "df1 = df[['FROM', 'ATTENDANCE']].copy()\n",
        "df1['FROM'] = df1['FROM'].str.strip()\n",
        "\n",
        "df2 = df1.drop_duplicates(keep='last')"
      ],
      "execution_count": 0,
      "outputs": []
    },
    {
      "cell_type": "code",
      "metadata": {
        "id": "RTML7WfOKJoI",
        "colab_type": "code",
        "colab": {
          "base_uri": "https://localhost:8080/",
          "height": 1000
        },
        "outputId": "1f0ecea5-d08a-4d96-fc32-99f27ab8134a"
      },
      "source": [
        "df2.reset_index()"
      ],
      "execution_count": 49,
      "outputs": [
        {
          "output_type": "execute_result",
          "data": {
            "text/html": [
              "<div>\n",
              "<style scoped>\n",
              "    .dataframe tbody tr th:only-of-type {\n",
              "        vertical-align: middle;\n",
              "    }\n",
              "\n",
              "    .dataframe tbody tr th {\n",
              "        vertical-align: top;\n",
              "    }\n",
              "\n",
              "    .dataframe thead th {\n",
              "        text-align: right;\n",
              "    }\n",
              "</style>\n",
              "<table border=\"1\" class=\"dataframe\">\n",
              "  <thead>\n",
              "    <tr style=\"text-align: right;\">\n",
              "      <th></th>\n",
              "      <th>index</th>\n",
              "      <th>FROM</th>\n",
              "      <th>ATTENDANCE</th>\n",
              "    </tr>\n",
              "  </thead>\n",
              "  <tbody>\n",
              "    <tr>\n",
              "      <th>0</th>\n",
              "      <td>2</td>\n",
              "      <td>Usha Dubey</td>\n",
              "      <td>PRESENT</td>\n",
              "    </tr>\n",
              "    <tr>\n",
              "      <th>1</th>\n",
              "      <td>9</td>\n",
              "      <td>Pranjal Srivastava</td>\n",
              "      <td>PRESENT</td>\n",
              "    </tr>\n",
              "    <tr>\n",
              "      <th>2</th>\n",
              "      <td>11</td>\n",
              "      <td>Jagriti Gupta</td>\n",
              "      <td>PRESENT</td>\n",
              "    </tr>\n",
              "    <tr>\n",
              "      <th>3</th>\n",
              "      <td>12</td>\n",
              "      <td>Samaksh X A</td>\n",
              "      <td>PRESENT</td>\n",
              "    </tr>\n",
              "    <tr>\n",
              "      <th>4</th>\n",
              "      <td>13</td>\n",
              "      <td>Bhavya Malik</td>\n",
              "      <td>PRESENT</td>\n",
              "    </tr>\n",
              "    <tr>\n",
              "      <th>5</th>\n",
              "      <td>15</td>\n",
              "      <td>Moksh Singh</td>\n",
              "      <td>PRESENT</td>\n",
              "    </tr>\n",
              "    <tr>\n",
              "      <th>6</th>\n",
              "      <td>16</td>\n",
              "      <td>Punya Malhotra</td>\n",
              "      <td>PRESENT</td>\n",
              "    </tr>\n",
              "    <tr>\n",
              "      <th>7</th>\n",
              "      <td>18</td>\n",
              "      <td>Pulkit</td>\n",
              "      <td>PRESENT</td>\n",
              "    </tr>\n",
              "    <tr>\n",
              "      <th>8</th>\n",
              "      <td>19</td>\n",
              "      <td>Pranshu Sharma</td>\n",
              "      <td>PRESENT</td>\n",
              "    </tr>\n",
              "    <tr>\n",
              "      <th>9</th>\n",
              "      <td>21</td>\n",
              "      <td>Vinayak Xa</td>\n",
              "      <td>PRESENT</td>\n",
              "    </tr>\n",
              "    <tr>\n",
              "      <th>10</th>\n",
              "      <td>22</td>\n",
              "      <td>Kabir Lamba</td>\n",
              "      <td>PRESENT</td>\n",
              "    </tr>\n",
              "    <tr>\n",
              "      <th>11</th>\n",
              "      <td>23</td>\n",
              "      <td>Saksham S.</td>\n",
              "      <td>PRESENT</td>\n",
              "    </tr>\n",
              "    <tr>\n",
              "      <th>12</th>\n",
              "      <td>24</td>\n",
              "      <td>Saubhagya Kaushal</td>\n",
              "      <td>PRESENT</td>\n",
              "    </tr>\n",
              "    <tr>\n",
              "      <th>13</th>\n",
              "      <td>25</td>\n",
              "      <td>Mehek Punyani</td>\n",
              "      <td>PRESENT</td>\n",
              "    </tr>\n",
              "    <tr>\n",
              "      <th>14</th>\n",
              "      <td>26</td>\n",
              "      <td>Sambhav Gupta</td>\n",
              "      <td>PRESENT</td>\n",
              "    </tr>\n",
              "    <tr>\n",
              "      <th>15</th>\n",
              "      <td>27</td>\n",
              "      <td>Tiya</td>\n",
              "      <td>PRESENT</td>\n",
              "    </tr>\n",
              "    <tr>\n",
              "      <th>16</th>\n",
              "      <td>28</td>\n",
              "      <td>Poorva Mangla</td>\n",
              "      <td>PRESENT</td>\n",
              "    </tr>\n",
              "    <tr>\n",
              "      <th>17</th>\n",
              "      <td>29</td>\n",
              "      <td>Aakriti Bhatt</td>\n",
              "      <td>PRESENT</td>\n",
              "    </tr>\n",
              "    <tr>\n",
              "      <th>18</th>\n",
              "      <td>30</td>\n",
              "      <td>Piyush</td>\n",
              "      <td>PRESENT</td>\n",
              "    </tr>\n",
              "    <tr>\n",
              "      <th>19</th>\n",
              "      <td>32</td>\n",
              "      <td>Palak Gupta</td>\n",
              "      <td>PRESENT</td>\n",
              "    </tr>\n",
              "    <tr>\n",
              "      <th>20</th>\n",
              "      <td>33</td>\n",
              "      <td>Vansh Rana</td>\n",
              "      <td>PRESENT</td>\n",
              "    </tr>\n",
              "    <tr>\n",
              "      <th>21</th>\n",
              "      <td>35</td>\n",
              "      <td>Lakshay Garg</td>\n",
              "      <td>PRESENT</td>\n",
              "    </tr>\n",
              "    <tr>\n",
              "      <th>22</th>\n",
              "      <td>36</td>\n",
              "      <td>Ananya Sonar</td>\n",
              "      <td>PRESENT</td>\n",
              "    </tr>\n",
              "    <tr>\n",
              "      <th>23</th>\n",
              "      <td>41</td>\n",
              "      <td>Drishti</td>\n",
              "      <td>PRESENT</td>\n",
              "    </tr>\n",
              "    <tr>\n",
              "      <th>24</th>\n",
              "      <td>42</td>\n",
              "      <td>Sanya X A</td>\n",
              "      <td>PRESENT</td>\n",
              "    </tr>\n",
              "    <tr>\n",
              "      <th>25</th>\n",
              "      <td>44</td>\n",
              "      <td>Sheetal Pathak</td>\n",
              "      <td>PRESENT</td>\n",
              "    </tr>\n",
              "    <tr>\n",
              "      <th>26</th>\n",
              "      <td>45</td>\n",
              "      <td>Nikhil Khandelwal</td>\n",
              "      <td>PRESENT</td>\n",
              "    </tr>\n",
              "    <tr>\n",
              "      <th>27</th>\n",
              "      <td>47</td>\n",
              "      <td>Saksham Chauhan</td>\n",
              "      <td>PRESENT</td>\n",
              "    </tr>\n",
              "    <tr>\n",
              "      <th>28</th>\n",
              "      <td>48</td>\n",
              "      <td>Arnav Jain</td>\n",
              "      <td>PRESENT</td>\n",
              "    </tr>\n",
              "    <tr>\n",
              "      <th>29</th>\n",
              "      <td>49</td>\n",
              "      <td>Yash</td>\n",
              "      <td>PRESENT</td>\n",
              "    </tr>\n",
              "    <tr>\n",
              "      <th>30</th>\n",
              "      <td>57</td>\n",
              "      <td>Akshat Tanwar</td>\n",
              "      <td>PRESENT</td>\n",
              "    </tr>\n",
              "    <tr>\n",
              "      <th>31</th>\n",
              "      <td>61</td>\n",
              "      <td>Dhruv Nimbalkar</td>\n",
              "      <td>PRESENT</td>\n",
              "    </tr>\n",
              "    <tr>\n",
              "      <th>32</th>\n",
              "      <td>62</td>\n",
              "      <td>Love Goyal (X-A)</td>\n",
              "      <td>PRESENT</td>\n",
              "    </tr>\n",
              "    <tr>\n",
              "      <th>33</th>\n",
              "      <td>63</td>\n",
              "      <td>Shashwat Jain</td>\n",
              "      <td>PRESENT</td>\n",
              "    </tr>\n",
              "  </tbody>\n",
              "</table>\n",
              "</div>"
            ],
            "text/plain": [
              "    index                FROM ATTENDANCE\n",
              "0       2          Usha Dubey    PRESENT\n",
              "1       9  Pranjal Srivastava    PRESENT\n",
              "2      11       Jagriti Gupta    PRESENT\n",
              "3      12         Samaksh X A    PRESENT\n",
              "4      13        Bhavya Malik    PRESENT\n",
              "5      15         Moksh Singh    PRESENT\n",
              "6      16      Punya Malhotra    PRESENT\n",
              "7      18              Pulkit    PRESENT\n",
              "8      19      Pranshu Sharma    PRESENT\n",
              "9      21          Vinayak Xa    PRESENT\n",
              "10     22         Kabir Lamba    PRESENT\n",
              "11     23          Saksham S.    PRESENT\n",
              "12     24   Saubhagya Kaushal    PRESENT\n",
              "13     25       Mehek Punyani    PRESENT\n",
              "14     26       Sambhav Gupta    PRESENT\n",
              "15     27                Tiya    PRESENT\n",
              "16     28       Poorva Mangla    PRESENT\n",
              "17     29       Aakriti Bhatt    PRESENT\n",
              "18     30              Piyush    PRESENT\n",
              "19     32         Palak Gupta    PRESENT\n",
              "20     33          Vansh Rana    PRESENT\n",
              "21     35        Lakshay Garg    PRESENT\n",
              "22     36        Ananya Sonar    PRESENT\n",
              "23     41             Drishti    PRESENT\n",
              "24     42           Sanya X A    PRESENT\n",
              "25     44      Sheetal Pathak    PRESENT\n",
              "26     45   Nikhil Khandelwal    PRESENT\n",
              "27     47     Saksham Chauhan    PRESENT\n",
              "28     48          Arnav Jain    PRESENT\n",
              "29     49                Yash    PRESENT\n",
              "30     57       Akshat Tanwar    PRESENT\n",
              "31     61     Dhruv Nimbalkar    PRESENT\n",
              "32     62    Love Goyal (X-A)    PRESENT\n",
              "33     63       Shashwat Jain    PRESENT"
            ]
          },
          "metadata": {
            "tags": []
          },
          "execution_count": 49
        }
      ]
    },
    {
      "cell_type": "code",
      "metadata": {
        "id": "J2j1uk4uM8eW",
        "colab_type": "code",
        "colab": {
          "base_uri": "https://localhost:8080/",
          "height": 34
        },
        "outputId": "ae0f9815-32fc-4959-8fcd-aefa69d55617"
      },
      "source": [
        "df2.shape"
      ],
      "execution_count": 50,
      "outputs": [
        {
          "output_type": "execute_result",
          "data": {
            "text/plain": [
              "(34, 2)"
            ]
          },
          "metadata": {
            "tags": []
          },
          "execution_count": 50
        }
      ]
    },
    {
      "cell_type": "code",
      "metadata": {
        "id": "Ex5Sxi7rRJee",
        "colab_type": "code",
        "colab": {}
      },
      "source": [
        ""
      ],
      "execution_count": 0,
      "outputs": []
    }
  ]
}