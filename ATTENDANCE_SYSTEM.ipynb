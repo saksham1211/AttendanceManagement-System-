{
  "nbformat": 4,
  "nbformat_minor": 0,
  "metadata": {
    "colab": {
      "name": "ATTENDANCE SYSTEM.ipynb",
      "provenance": [],
      "collapsed_sections": [],
      "authorship_tag": "ABX9TyM7Ftq6iBWRJazEMTxUC3wK",
      "include_colab_link": true
    },
    "kernelspec": {
      "name": "python3",
      "display_name": "Python 3"
    }
  },
  "cells": [
    {
      "cell_type": "markdown",
      "metadata": {
        "id": "view-in-github",
        "colab_type": "text"
      },
      "source": [
        "<a href=\"https://colab.research.google.com/github/saksham1211/AttendanceManagement-System-/blob/master/ATTENDANCE_SYSTEM.ipynb\" target=\"_parent\"><img src=\"https://colab.research.google.com/assets/colab-badge.svg\" alt=\"Open In Colab\"/></a>"
      ]
    },
    {
      "cell_type": "markdown",
      "metadata": {
        "id": "RggLRTj5tc1x",
        "colab_type": "text"
      },
      "source": [
        "# **ATTENDANCE MANAGMENT SYSTEM**\n",
        "USING ZOOM CHAT ROOM"
      ]
    },
    {
      "cell_type": "code",
      "metadata": {
        "id": "zOUWnWavamUk",
        "colab_type": "code",
        "colab": {}
      },
      "source": [
        "import pandas as pd"
      ],
      "execution_count": 0,
      "outputs": []
    },
    {
      "cell_type": "code",
      "metadata": {
        "id": "qoIl57vycf-Q",
        "colab_type": "code",
        "colab": {}
      },
      "source": [
        "f = open('chat.txt', 'r')"
      ],
      "execution_count": 0,
      "outputs": []
    },
    {
      "cell_type": "code",
      "metadata": {
        "id": "dkE4ATU8ckiU",
        "colab_type": "code",
        "colab": {}
      },
      "source": [
        "each_chat = []\n",
        "for i in f.readlines():\n",
        "  each_chat.append(i)  "
      ],
      "execution_count": 0,
      "outputs": []
    },
    {
      "cell_type": "code",
      "metadata": {
        "id": "0S8vaK2mczXf",
        "colab_type": "code",
        "colab": {
          "base_uri": "https://localhost:8080/",
          "height": 1000
        },
        "outputId": "9eb5f9d2-a75b-4a5f-db5a-14949bf53409"
      },
      "source": [
        "each_chat"
      ],
      "execution_count": 4,
      "outputs": [
        {
          "output_type": "execute_result",
          "data": {
            "text/plain": [
              "['12:15:06\\t From  Usha Dubey : FOR ATTENDANCE WRITE YOUR NAME AND ROLL NUMBER IN CHAT FORUM.\\n',\n",
              " '12:15:33\\t From  Kanishka   to   Usha Dubey(Privately) : kanishka \\n',\n",
              " '12:15:38\\t From  YUNIKA CHADHA   to   Usha Dubey(Privately) : Yunika Chadha class 10b\\n',\n",
              " '12:15:41\\t From  Kanishka   to   Usha Dubey(Privately) : 14\\n',\n",
              " '12:15:43\\t From  saksham chandolia(10 c) : Saksham chandolia  10 c \\n',\n",
              " '12:15:51\\t From  Kanishka   to   Usha Dubey(Privately) : kanishka\\n',\n",
              " '12:15:52\\t From  YUNIKA CHADHA   to   Usha Dubey(Privately) : roll no.44\\n',\n",
              " '12:15:53\\t From  Rajat Bansal : Rajat Bansal 10C\\n',\n",
              " '12:15:57\\t From  PALAK SAINI : PALAK SAINI 10C\\n',\n",
              " '12:16:04\\t From  Mankirat singh(x-c) : Mankirat singh  (10c)\\n',\n",
              " '12:16:06\\t From  Sanya Leekha : Sanya leekha X B\\n',\n",
              " '12:16:08\\t From  Anuj Garg : anuj garg 10c\\n',\n",
              " '12:16:09\\t From  Ayush Khandelwal   to   Usha Dubey(Privately) : Ayush Khandelwal 10C\\n',\n",
              " '12:16:10\\t From  Kanishka   to   Usha Dubey(Privately) : kanishka x‐c\\n',\n",
              " '12:16:11\\t From  Shaunak (X-C) : Shaunak 10-C\\n',\n",
              " '12:16:15\\t From  Nakul Oberoi : NAKUL OBEROI 10C\\n',\n",
              " '12:16:16\\t From  sajal jain   to   Usha Dubey(Privately) : SAJAL JAIN  -  XB\\n',\n",
              " '12:16:17\\t From  *__sumit__* : 10-c\\n',\n",
              " '12:16:18\\t From  Manan Bisht : Manan Bisht X-C\\n',\n",
              " '12:16:19\\t From  GARVIT KHANDELWAL : garvit 10B\\n',\n",
              " '12:16:22\\t From  Vansh dua : Vansh Dua class 10 c \\n',\n",
              " '12:16:24\\t From  Shruti arora : shruti arora 10B \\n',\n",
              " '12:16:24\\t From  Avni gupta : AVNI GUPTA X-B\\n',\n",
              " '12:16:25\\t From  😎🔥Pratham Sharma😎🔥   to   Usha Dubey(Privately) : Pratham Sharma 10 B\\n',\n",
              " '12:16:25\\t From  Vaibhav : Vaibhav X-C\\n',\n",
              " '12:16:25\\t From  Krish garg : Krish Garg  10 B 9223\\n',\n",
              " '12:16:26\\t From  HARSHIT[10/C] : HARSHIT10-C\\n',\n",
              " '12:16:26\\t From  srishti vats : srishti vats (X-B) \\n',\n",
              " '12:16:27\\t From  Hiya Harjai : hiya harjai 10B9221\\n',\n",
              " '12:16:27\\t From  Aditi : Aditi Goyal X-B\\n',\n",
              " '12:16:27\\t From  Mohit Aggarwal : MOHIT AGGARWAL \\n',\n",
              " '12:16:28\\t From  Lakshita Sehgal : Lakshita Sehgal 10-C\\n',\n",
              " '12:16:29\\t From  *__sumit__* : sumit 10-c\\n',\n",
              " '12:16:33\\t From  Anshika : anshika Sachdev (10b₹\\n',\n",
              " '12:16:33\\t From  Dev   to   Usha Dubey(Privately) : Dev Rakshit (X-B)\\n',\n",
              " '12:16:34\\t From  Jahnvi Grover   to   Usha Dubey(Privately) : Jahnvi \\n',\n",
              " '12:16:34\\t From  Mohit Aggarwal : X-B\\n',\n",
              " '12:16:38\\t From  Riya Srivastava : Riya srivastava X-B\\n',\n",
              " '12:16:38\\t From  Anshika : 10 b*\\n',\n",
              " '12:16:40\\t From  Manya Mahajan : Manya Mahajan 10C\\n',\n",
              " '12:16:42\\t From  MS Vohra : Manraaj x-B\\n',\n",
              " '12:16:44\\t From  RIYA Vij : Riya Vij X-C\\n',\n",
              " '12:16:45\\t From  Jahnvi Grover   to   Usha Dubey(Privately) : Jahnvi xc\\n',\n",
              " '12:16:48\\t From  Akshat khandelwal : akshat XC\\n',\n",
              " '12:16:49\\t From  😎DHRUV YADAV😎 : DHRUV YADAV \\n',\n",
              " '          X-B\\n',\n",
              " '12:16:56\\t From  Binti Suri   to   Usha Dubey(Privately) : Binti suri XB\\n',\n",
              " '12:16:57\\t From  Mysha Karim Baksh : Mysha karim baksh\\n',\n",
              " 'X-C\\n',\n",
              " '12:17:00\\t From  MOIZ KARIM BAKSH : MOIZ KARIM BAKSH X-C\\n',\n",
              " '12:17:03\\t From  Manya Mahajan : Manya mahajan10-c\\n',\n",
              " '12:17:04\\t From  Bharat gupta   to   Usha Dubey(Privately) : Bharat gupta X-B \\n',\n",
              " '12:17:04\\t From  SRISHTI YADAV : srishti yadav 10c\\n',\n",
              " '12:17:05\\t From  Tanvi jain : Tanvi jain X-B\\n',\n",
              " '12:17:05\\t From  Tanishq Sankhla : Tanishq Sankhla\\n',\n",
              " '12:17:05\\t From  Mohit Aggarwal : MOHIT AGGGARWAL X - B\\n',\n",
              " '12:17:06\\t From  Manan Malik : Manan Malik \\n',\n",
              " '10 B\\n',\n",
              " '12:17:11\\t From  aaryan verma : Aryan Verma _XB\\n',\n",
              " '12:17:13\\t From  Binti Suri : Binti Suti\\n',\n",
              " '12:17:15\\t From  Harsh Singh : Harsh Singh 10-B\\n',\n",
              " '12:17:20\\t From  Tanishq Sankhla : Tanishq Sankhla 10-c\\n',\n",
              " '12:17:24\\t From  VANI JAISWAL ( X - B ) : vani jaiswal ( X B)\\n',\n",
              " '12:17:30\\t From  Binti Suri : binti suri XB\\n',\n",
              " '12:17:36\\t From  Jai bharat sharma : Name - jai bharat sharma\\n',\n",
              " '12:17:46\\t From  Akshita  : Akshita XB\\n',\n",
              " '12:17:55\\t From  Jai bharat sharma : class - xc\\n',\n",
              " '12:18:28\\t From  vinayak : vinayak- X b\\n',\n",
              " '12:19:16\\t From  BOVIN CHOPRA : Bovin - XB\\n',\n",
              " '12:19:52\\t From  Garvita Gogia : garvita XB\\n',\n",
              " '12:20:06\\t From  NIKHIL : Nikhil XC\\n',\n",
              " '12:20:16\\t From  Anuj Kansotia : Anuj Kansotia 10B\\n',\n",
              " '12:20:23\\t From  sonakshi Dogra : sonakshi XB\\n',\n",
              " '12:20:35\\t From  Chiragbhuranda : Chiragbhuranda X-B\\n',\n",
              " '12:20:54\\t From  Gauri Gandhi : Gauri Gandhi XC\\n',\n",
              " '12:20:58\\t From  VANSH BANDERWAL (X-B) : Vansh Banderwal X-B \\n',\n",
              " '12:20:59\\t From  Shubh : shubh X-C\\n',\n",
              " '12:21:03\\t From  Aditya Khandelwal : Aditya khandelwal XB\\n',\n",
              " '12:21:33\\t From  Vidhi Dhawan : Vidhi dhawan XB\\n',\n",
              " '12:22:18\\t From  Karan Gaur : Karan- 10thC\\n',\n",
              " '12:22:37\\t From  Manan Bisht : Manan Bisht X-C\\n',\n",
              " '12:23:13\\t From  swastik singhal : SWASTIK - 10 B\\n',\n",
              " '12:24:11\\t From  sajal jain   to   Usha Dubey(Privately) : MAM all the 4 factors are required to be identified or only factor can also identify  an reaction\\n',\n",
              " '12:24:28\\t From  Vikram Kumar : vikram k.  10 B\\n',\n",
              " '12:28:21\\t From  Yashika aggarwal : yashika aggarwal from X-C \\n',\n",
              " '12:28:42\\t From  Gauri Gandhi : NO PROBLEM\\n',\n",
              " '12:29:39\\t From  Nakul Oberoi : Mam con we balance the equation without making table\\n',\n",
              " '12:30:40\\t From  Nakul Oberoi : Ok maam\\n',\n",
              " '12:30:44\\t From  Goyal   to   Usha Dubey(Privately) : Ma am back exercise bhi karni     \\n',\n",
              " '12:30:55\\t From  Goyal   to   Usha Dubey(Privately) : hai\\n',\n",
              " '12:38:48\\t From  sajal jain   to   Usha Dubey(Privately) : mam electricity  will liberate also\\n',\n",
              " '12:40:41\\t From  sajal jain   to   Usha Dubey(Privately) : mam how we will get to know that which metal is more reactive\\n',\n",
              " \"12:41:22\\t From  Anuj Garg   to   Usha Dubey(Privately) : mam isn't hydrogen sulphate  H2SO4\\n\",\n",
              " '12:42:15\\t From  Jyotika Sharma : hn \\n',\n",
              " '12:42:19\\t From  Jai bharat sharma : maam how do we know that this metal is highly reactive or less reactive\\n',\n",
              " '12:42:36\\t From  Anuj Garg   to   Usha Dubey(Privately) : ok mam\\n',\n",
              " '12:42:43\\t From  MOIZ KARIM BAKSH : reactivity table\\n',\n",
              " '12:43:52\\t From  Jai bharat sharma : ok mam\\n',\n",
              " '12:44:32\\t From  Nakul Oberoi : Mam please tell who is more reactive Pt or Au\\n',\n",
              " \"12:44:32\\t From  Lakshita Sehgal : ok ma'am\\n\",\n",
              " '12:44:40\\t From  Goyal   to   Usha Dubey(Privately) : kyon bola us din Maine tujse kuchhh kaha tha\\n']"
            ]
          },
          "metadata": {
            "tags": []
          },
          "execution_count": 4
        }
      ]
    },
    {
      "cell_type": "code",
      "metadata": {
        "id": "yaTvjfFPc9F4",
        "colab_type": "code",
        "colab": {}
      },
      "source": [
        "time_stamp = []"
      ],
      "execution_count": 0,
      "outputs": []
    },
    {
      "cell_type": "code",
      "metadata": {
        "id": "_hxu7uFEdEWX",
        "colab_type": "code",
        "colab": {}
      },
      "source": [
        "rest=[]"
      ],
      "execution_count": 0,
      "outputs": []
    },
    {
      "cell_type": "code",
      "metadata": {
        "id": "jmXkKDAZdFdz",
        "colab_type": "code",
        "colab": {}
      },
      "source": [
        "for chat in each_chat:\n",
        "  if  'From' in chat:\n",
        "    time_stamp.append(chat.split('From')[0][:-2])\n",
        "    rest.append(chat.split('From')[1])"
      ],
      "execution_count": 0,
      "outputs": []
    },
    {
      "cell_type": "code",
      "metadata": {
        "id": "YI7Ru3Xldu7o",
        "colab_type": "code",
        "colab": {
          "base_uri": "https://localhost:8080/",
          "height": 34
        },
        "outputId": "a44d1dcb-2268-4447-b498-8643a7abf8ea"
      },
      "source": [
        "time_stamp[:5]"
      ],
      "execution_count": 8,
      "outputs": [
        {
          "output_type": "execute_result",
          "data": {
            "text/plain": [
              "['12:15:06', '12:15:33', '12:15:38', '12:15:41', '12:15:43']"
            ]
          },
          "metadata": {
            "tags": []
          },
          "execution_count": 8
        }
      ]
    },
    {
      "cell_type": "code",
      "metadata": {
        "id": "cNhALW93dxOC",
        "colab_type": "code",
        "colab": {
          "base_uri": "https://localhost:8080/",
          "height": 102
        },
        "outputId": "3c6bc705-5980-44f4-8ae1-a9d1294387ea"
      },
      "source": [
        "rest[:5]"
      ],
      "execution_count": 9,
      "outputs": [
        {
          "output_type": "execute_result",
          "data": {
            "text/plain": [
              "['  Usha Dubey : FOR ATTENDANCE WRITE YOUR NAME AND ROLL NUMBER IN CHAT FORUM.\\n',\n",
              " '  Kanishka   to   Usha Dubey(Privately) : kanishka \\n',\n",
              " '  YUNIKA CHADHA   to   Usha Dubey(Privately) : Yunika Chadha class 10b\\n',\n",
              " '  Kanishka   to   Usha Dubey(Privately) : 14\\n',\n",
              " '  saksham chandolia(10 c) : Saksham chandolia  10 c \\n']"
            ]
          },
          "metadata": {
            "tags": []
          },
          "execution_count": 9
        }
      ]
    },
    {
      "cell_type": "code",
      "metadata": {
        "id": "kP4CoiTqdzF_",
        "colab_type": "code",
        "colab": {}
      },
      "source": [
        "from_index = []"
      ],
      "execution_count": 0,
      "outputs": []
    },
    {
      "cell_type": "code",
      "metadata": {
        "id": "ykDtp5jqd2kV",
        "colab_type": "code",
        "colab": {}
      },
      "source": [
        "to_index=[]"
      ],
      "execution_count": 0,
      "outputs": []
    },
    {
      "cell_type": "code",
      "metadata": {
        "id": "XboCXPJUd3_U",
        "colab_type": "code",
        "colab": {}
      },
      "source": [
        "msg = []"
      ],
      "execution_count": 0,
      "outputs": []
    },
    {
      "cell_type": "code",
      "metadata": {
        "id": "CA4vV_Htd5Fu",
        "colab_type": "code",
        "colab": {}
      },
      "source": [
        "for chat in rest:\n",
        "  c= chat.split(':')\n",
        "  inds=c[0]\n",
        "  msg.append(c[1][:-2])\n",
        "  if 'to' in inds:\n",
        "    two = inds.split('to')\n",
        "    from_index.append(two[0].title())\n",
        "    to_index.append(two[1].title())\n",
        "  else:\n",
        "    from_index.append(inds.title())\n",
        "    to_index.append('All')"
      ],
      "execution_count": 0,
      "outputs": []
    },
    {
      "cell_type": "code",
      "metadata": {
        "id": "EhiFjm-ze4RT",
        "colab_type": "code",
        "colab": {
          "base_uri": "https://localhost:8080/",
          "height": 102
        },
        "outputId": "99aaad08-c20d-464f-8dd4-f8e03a56a7bd"
      },
      "source": [
        "from_index[:5]"
      ],
      "execution_count": 14,
      "outputs": [
        {
          "output_type": "execute_result",
          "data": {
            "text/plain": [
              "['  Usha Dubey ',\n",
              " '  Kanishka   ',\n",
              " '  Yunika Chadha   ',\n",
              " '  Kanishka   ',\n",
              " '  Saksham Chandolia(10 C) ']"
            ]
          },
          "metadata": {
            "tags": []
          },
          "execution_count": 14
        }
      ]
    },
    {
      "cell_type": "code",
      "metadata": {
        "id": "wyXULzeLe-Er",
        "colab_type": "code",
        "colab": {
          "base_uri": "https://localhost:8080/",
          "height": 102
        },
        "outputId": "a16e8f38-ce67-4a83-cb00-54fece666bd3"
      },
      "source": [
        "to_index[:5]"
      ],
      "execution_count": 15,
      "outputs": [
        {
          "output_type": "execute_result",
          "data": {
            "text/plain": [
              "['All',\n",
              " '   Usha Dubey(Privately) ',\n",
              " '   Usha Dubey(Privately) ',\n",
              " '   Usha Dubey(Privately) ',\n",
              " 'All']"
            ]
          },
          "metadata": {
            "tags": []
          },
          "execution_count": 15
        }
      ]
    },
    {
      "cell_type": "code",
      "metadata": {
        "id": "WK17wBWJfBSA",
        "colab_type": "code",
        "colab": {
          "base_uri": "https://localhost:8080/",
          "height": 102
        },
        "outputId": "d2c808ca-02fb-4e10-f61b-ebe8f09f9e62"
      },
      "source": [
        "msg[:5]"
      ],
      "execution_count": 16,
      "outputs": [
        {
          "output_type": "execute_result",
          "data": {
            "text/plain": [
              "[' FOR ATTENDANCE WRITE YOUR NAME AND ROLL NUMBER IN CHAT FORUM',\n",
              " ' kanishka',\n",
              " ' Yunika Chadha class 10',\n",
              " ' 1',\n",
              " ' Saksham chandolia  10 c']"
            ]
          },
          "metadata": {
            "tags": []
          },
          "execution_count": 16
        }
      ]
    },
    {
      "cell_type": "code",
      "metadata": {
        "id": "lTzPYCN0fDJq",
        "colab_type": "code",
        "colab": {}
      },
      "source": [
        "data = {'TIME STAMP':time_stamp, 'FROM': from_index, 'TO':to_index, 'MESSAGE':msg}\n",
        "df = pd.DataFrame(data)"
      ],
      "execution_count": 0,
      "outputs": []
    },
    {
      "cell_type": "code",
      "metadata": {
        "id": "pBXzFjSffTzv",
        "colab_type": "code",
        "colab": {
          "base_uri": "https://localhost:8080/",
          "height": 204
        },
        "outputId": "6ee4500e-7071-40cf-8733-629079ba8e8f"
      },
      "source": [
        "df.head()"
      ],
      "execution_count": 18,
      "outputs": [
        {
          "output_type": "execute_result",
          "data": {
            "text/html": [
              "<div>\n",
              "<style scoped>\n",
              "    .dataframe tbody tr th:only-of-type {\n",
              "        vertical-align: middle;\n",
              "    }\n",
              "\n",
              "    .dataframe tbody tr th {\n",
              "        vertical-align: top;\n",
              "    }\n",
              "\n",
              "    .dataframe thead th {\n",
              "        text-align: right;\n",
              "    }\n",
              "</style>\n",
              "<table border=\"1\" class=\"dataframe\">\n",
              "  <thead>\n",
              "    <tr style=\"text-align: right;\">\n",
              "      <th></th>\n",
              "      <th>TIME STAMP</th>\n",
              "      <th>FROM</th>\n",
              "      <th>TO</th>\n",
              "      <th>MESSAGE</th>\n",
              "    </tr>\n",
              "  </thead>\n",
              "  <tbody>\n",
              "    <tr>\n",
              "      <th>0</th>\n",
              "      <td>12:15:06</td>\n",
              "      <td>Usha Dubey</td>\n",
              "      <td>All</td>\n",
              "      <td>FOR ATTENDANCE WRITE YOUR NAME AND ROLL NUMBE...</td>\n",
              "    </tr>\n",
              "    <tr>\n",
              "      <th>1</th>\n",
              "      <td>12:15:33</td>\n",
              "      <td>Kanishka</td>\n",
              "      <td>Usha Dubey(Privately)</td>\n",
              "      <td>kanishka</td>\n",
              "    </tr>\n",
              "    <tr>\n",
              "      <th>2</th>\n",
              "      <td>12:15:38</td>\n",
              "      <td>Yunika Chadha</td>\n",
              "      <td>Usha Dubey(Privately)</td>\n",
              "      <td>Yunika Chadha class 10</td>\n",
              "    </tr>\n",
              "    <tr>\n",
              "      <th>3</th>\n",
              "      <td>12:15:41</td>\n",
              "      <td>Kanishka</td>\n",
              "      <td>Usha Dubey(Privately)</td>\n",
              "      <td>1</td>\n",
              "    </tr>\n",
              "    <tr>\n",
              "      <th>4</th>\n",
              "      <td>12:15:43</td>\n",
              "      <td>Saksham Chandolia(10 C)</td>\n",
              "      <td>All</td>\n",
              "      <td>Saksham chandolia  10 c</td>\n",
              "    </tr>\n",
              "  </tbody>\n",
              "</table>\n",
              "</div>"
            ],
            "text/plain": [
              "  TIME STAMP  ...                                            MESSAGE\n",
              "0   12:15:06  ...   FOR ATTENDANCE WRITE YOUR NAME AND ROLL NUMBE...\n",
              "1   12:15:33  ...                                           kanishka\n",
              "2   12:15:38  ...                             Yunika Chadha class 10\n",
              "3   12:15:41  ...                                                  1\n",
              "4   12:15:43  ...                            Saksham chandolia  10 c\n",
              "\n",
              "[5 rows x 4 columns]"
            ]
          },
          "metadata": {
            "tags": []
          },
          "execution_count": 18
        }
      ]
    },
    {
      "cell_type": "code",
      "metadata": {
        "id": "3I8K_0v0fVRd",
        "colab_type": "code",
        "colab": {}
      },
      "source": [
        "df.insert(4, 'ATTENDANCE', 'PRESENT', True)"
      ],
      "execution_count": 0,
      "outputs": []
    },
    {
      "cell_type": "code",
      "metadata": {
        "id": "NZ8wNkLKfufK",
        "colab_type": "code",
        "colab": {
          "base_uri": "https://localhost:8080/",
          "height": 34
        },
        "outputId": "3b8dbea1-ddbc-4783-d942-fa8ca9c6fa30"
      },
      "source": [
        "df.shape"
      ],
      "execution_count": 22,
      "outputs": [
        {
          "output_type": "execute_result",
          "data": {
            "text/plain": [
              "(98, 5)"
            ]
          },
          "metadata": {
            "tags": []
          },
          "execution_count": 22
        }
      ]
    },
    {
      "cell_type": "code",
      "metadata": {
        "id": "pFWV_mkpgtbf",
        "colab_type": "code",
        "colab": {
          "base_uri": "https://localhost:8080/",
          "height": 419
        },
        "outputId": "c68ff04f-e4e5-4c3a-dbee-355bdf657890"
      },
      "source": [
        "df"
      ],
      "execution_count": 24,
      "outputs": [
        {
          "output_type": "execute_result",
          "data": {
            "text/html": [
              "<div>\n",
              "<style scoped>\n",
              "    .dataframe tbody tr th:only-of-type {\n",
              "        vertical-align: middle;\n",
              "    }\n",
              "\n",
              "    .dataframe tbody tr th {\n",
              "        vertical-align: top;\n",
              "    }\n",
              "\n",
              "    .dataframe thead th {\n",
              "        text-align: right;\n",
              "    }\n",
              "</style>\n",
              "<table border=\"1\" class=\"dataframe\">\n",
              "  <thead>\n",
              "    <tr style=\"text-align: right;\">\n",
              "      <th></th>\n",
              "      <th>TIME STAMP</th>\n",
              "      <th>FROM</th>\n",
              "      <th>TO</th>\n",
              "      <th>MESSAGE</th>\n",
              "      <th>ATTENDANCE</th>\n",
              "    </tr>\n",
              "  </thead>\n",
              "  <tbody>\n",
              "    <tr>\n",
              "      <th>0</th>\n",
              "      <td>12:15:06</td>\n",
              "      <td>Usha Dubey</td>\n",
              "      <td>All</td>\n",
              "      <td>FOR ATTENDANCE WRITE YOUR NAME AND ROLL NUMBE...</td>\n",
              "      <td>PRESENT</td>\n",
              "    </tr>\n",
              "    <tr>\n",
              "      <th>1</th>\n",
              "      <td>12:15:33</td>\n",
              "      <td>Kanishka</td>\n",
              "      <td>Usha Dubey(Privately)</td>\n",
              "      <td>kanishka</td>\n",
              "      <td>PRESENT</td>\n",
              "    </tr>\n",
              "    <tr>\n",
              "      <th>2</th>\n",
              "      <td>12:15:38</td>\n",
              "      <td>Yunika Chadha</td>\n",
              "      <td>Usha Dubey(Privately)</td>\n",
              "      <td>Yunika Chadha class 10</td>\n",
              "      <td>PRESENT</td>\n",
              "    </tr>\n",
              "    <tr>\n",
              "      <th>3</th>\n",
              "      <td>12:15:41</td>\n",
              "      <td>Kanishka</td>\n",
              "      <td>Usha Dubey(Privately)</td>\n",
              "      <td>1</td>\n",
              "      <td>PRESENT</td>\n",
              "    </tr>\n",
              "    <tr>\n",
              "      <th>4</th>\n",
              "      <td>12:15:43</td>\n",
              "      <td>Saksham Chandolia(10 C)</td>\n",
              "      <td>All</td>\n",
              "      <td>Saksham chandolia  10 c</td>\n",
              "      <td>PRESENT</td>\n",
              "    </tr>\n",
              "    <tr>\n",
              "      <th>...</th>\n",
              "      <td>...</td>\n",
              "      <td>...</td>\n",
              "      <td>...</td>\n",
              "      <td>...</td>\n",
              "      <td>...</td>\n",
              "    </tr>\n",
              "    <tr>\n",
              "      <th>93</th>\n",
              "      <td>12:42:43</td>\n",
              "      <td>Moiz Karim Baksh</td>\n",
              "      <td>All</td>\n",
              "      <td>reactivity tabl</td>\n",
              "      <td>PRESENT</td>\n",
              "    </tr>\n",
              "    <tr>\n",
              "      <th>94</th>\n",
              "      <td>12:43:52</td>\n",
              "      <td>Jai Bharat Sharma</td>\n",
              "      <td>All</td>\n",
              "      <td>ok ma</td>\n",
              "      <td>PRESENT</td>\n",
              "    </tr>\n",
              "    <tr>\n",
              "      <th>95</th>\n",
              "      <td>12:44:32</td>\n",
              "      <td>Nakul Oberoi</td>\n",
              "      <td>All</td>\n",
              "      <td>Mam please tell who is more reactive Pt or A</td>\n",
              "      <td>PRESENT</td>\n",
              "    </tr>\n",
              "    <tr>\n",
              "      <th>96</th>\n",
              "      <td>12:44:32</td>\n",
              "      <td>Lakshita Sehgal</td>\n",
              "      <td>All</td>\n",
              "      <td>ok ma'a</td>\n",
              "      <td>PRESENT</td>\n",
              "    </tr>\n",
              "    <tr>\n",
              "      <th>97</th>\n",
              "      <td>12:44:40</td>\n",
              "      <td>Goyal</td>\n",
              "      <td>Usha Dubey(Privately)</td>\n",
              "      <td>kyon bola us din Maine tujse kuchhh kaha th</td>\n",
              "      <td>PRESENT</td>\n",
              "    </tr>\n",
              "  </tbody>\n",
              "</table>\n",
              "<p>98 rows × 5 columns</p>\n",
              "</div>"
            ],
            "text/plain": [
              "   TIME STAMP  ... ATTENDANCE\n",
              "0    12:15:06  ...    PRESENT\n",
              "1    12:15:33  ...    PRESENT\n",
              "2    12:15:38  ...    PRESENT\n",
              "3    12:15:41  ...    PRESENT\n",
              "4    12:15:43  ...    PRESENT\n",
              "..        ...  ...        ...\n",
              "93   12:42:43  ...    PRESENT\n",
              "94   12:43:52  ...    PRESENT\n",
              "95   12:44:32  ...    PRESENT\n",
              "96   12:44:32  ...    PRESENT\n",
              "97   12:44:40  ...    PRESENT\n",
              "\n",
              "[98 rows x 5 columns]"
            ]
          },
          "metadata": {
            "tags": []
          },
          "execution_count": 24
        }
      ]
    },
    {
      "cell_type": "code",
      "metadata": {
        "id": "hR7KGpM2guSl",
        "colab_type": "code",
        "colab": {
          "base_uri": "https://localhost:8080/",
          "height": 419
        },
        "outputId": "c8d0477e-8e10-461d-8e9b-c3b52cfa2ab0"
      },
      "source": [
        "df[:][1:]"
      ],
      "execution_count": 25,
      "outputs": [
        {
          "output_type": "execute_result",
          "data": {
            "text/html": [
              "<div>\n",
              "<style scoped>\n",
              "    .dataframe tbody tr th:only-of-type {\n",
              "        vertical-align: middle;\n",
              "    }\n",
              "\n",
              "    .dataframe tbody tr th {\n",
              "        vertical-align: top;\n",
              "    }\n",
              "\n",
              "    .dataframe thead th {\n",
              "        text-align: right;\n",
              "    }\n",
              "</style>\n",
              "<table border=\"1\" class=\"dataframe\">\n",
              "  <thead>\n",
              "    <tr style=\"text-align: right;\">\n",
              "      <th></th>\n",
              "      <th>TIME STAMP</th>\n",
              "      <th>FROM</th>\n",
              "      <th>TO</th>\n",
              "      <th>MESSAGE</th>\n",
              "      <th>ATTENDANCE</th>\n",
              "    </tr>\n",
              "  </thead>\n",
              "  <tbody>\n",
              "    <tr>\n",
              "      <th>1</th>\n",
              "      <td>12:15:33</td>\n",
              "      <td>Kanishka</td>\n",
              "      <td>Usha Dubey(Privately)</td>\n",
              "      <td>kanishka</td>\n",
              "      <td>PRESENT</td>\n",
              "    </tr>\n",
              "    <tr>\n",
              "      <th>2</th>\n",
              "      <td>12:15:38</td>\n",
              "      <td>Yunika Chadha</td>\n",
              "      <td>Usha Dubey(Privately)</td>\n",
              "      <td>Yunika Chadha class 10</td>\n",
              "      <td>PRESENT</td>\n",
              "    </tr>\n",
              "    <tr>\n",
              "      <th>3</th>\n",
              "      <td>12:15:41</td>\n",
              "      <td>Kanishka</td>\n",
              "      <td>Usha Dubey(Privately)</td>\n",
              "      <td>1</td>\n",
              "      <td>PRESENT</td>\n",
              "    </tr>\n",
              "    <tr>\n",
              "      <th>4</th>\n",
              "      <td>12:15:43</td>\n",
              "      <td>Saksham Chandolia(10 C)</td>\n",
              "      <td>All</td>\n",
              "      <td>Saksham chandolia  10 c</td>\n",
              "      <td>PRESENT</td>\n",
              "    </tr>\n",
              "    <tr>\n",
              "      <th>5</th>\n",
              "      <td>12:15:51</td>\n",
              "      <td>Kanishka</td>\n",
              "      <td>Usha Dubey(Privately)</td>\n",
              "      <td>kanishk</td>\n",
              "      <td>PRESENT</td>\n",
              "    </tr>\n",
              "    <tr>\n",
              "      <th>...</th>\n",
              "      <td>...</td>\n",
              "      <td>...</td>\n",
              "      <td>...</td>\n",
              "      <td>...</td>\n",
              "      <td>...</td>\n",
              "    </tr>\n",
              "    <tr>\n",
              "      <th>93</th>\n",
              "      <td>12:42:43</td>\n",
              "      <td>Moiz Karim Baksh</td>\n",
              "      <td>All</td>\n",
              "      <td>reactivity tabl</td>\n",
              "      <td>PRESENT</td>\n",
              "    </tr>\n",
              "    <tr>\n",
              "      <th>94</th>\n",
              "      <td>12:43:52</td>\n",
              "      <td>Jai Bharat Sharma</td>\n",
              "      <td>All</td>\n",
              "      <td>ok ma</td>\n",
              "      <td>PRESENT</td>\n",
              "    </tr>\n",
              "    <tr>\n",
              "      <th>95</th>\n",
              "      <td>12:44:32</td>\n",
              "      <td>Nakul Oberoi</td>\n",
              "      <td>All</td>\n",
              "      <td>Mam please tell who is more reactive Pt or A</td>\n",
              "      <td>PRESENT</td>\n",
              "    </tr>\n",
              "    <tr>\n",
              "      <th>96</th>\n",
              "      <td>12:44:32</td>\n",
              "      <td>Lakshita Sehgal</td>\n",
              "      <td>All</td>\n",
              "      <td>ok ma'a</td>\n",
              "      <td>PRESENT</td>\n",
              "    </tr>\n",
              "    <tr>\n",
              "      <th>97</th>\n",
              "      <td>12:44:40</td>\n",
              "      <td>Goyal</td>\n",
              "      <td>Usha Dubey(Privately)</td>\n",
              "      <td>kyon bola us din Maine tujse kuchhh kaha th</td>\n",
              "      <td>PRESENT</td>\n",
              "    </tr>\n",
              "  </tbody>\n",
              "</table>\n",
              "<p>97 rows × 5 columns</p>\n",
              "</div>"
            ],
            "text/plain": [
              "   TIME STAMP  ... ATTENDANCE\n",
              "1    12:15:33  ...    PRESENT\n",
              "2    12:15:38  ...    PRESENT\n",
              "3    12:15:41  ...    PRESENT\n",
              "4    12:15:43  ...    PRESENT\n",
              "5    12:15:51  ...    PRESENT\n",
              "..        ...  ...        ...\n",
              "93   12:42:43  ...    PRESENT\n",
              "94   12:43:52  ...    PRESENT\n",
              "95   12:44:32  ...    PRESENT\n",
              "96   12:44:32  ...    PRESENT\n",
              "97   12:44:40  ...    PRESENT\n",
              "\n",
              "[97 rows x 5 columns]"
            ]
          },
          "metadata": {
            "tags": []
          },
          "execution_count": 25
        }
      ]
    },
    {
      "cell_type": "code",
      "metadata": {
        "id": "eBdbKqK3hCtO",
        "colab_type": "code",
        "colab": {
          "base_uri": "https://localhost:8080/",
          "height": 204
        },
        "outputId": "9a3f2975-aedb-4ec9-a59c-7452ad7b1869"
      },
      "source": [
        "df[['FROM', 'ATTENDANCE']].head()"
      ],
      "execution_count": 39,
      "outputs": [
        {
          "output_type": "execute_result",
          "data": {
            "text/html": [
              "<div>\n",
              "<style scoped>\n",
              "    .dataframe tbody tr th:only-of-type {\n",
              "        vertical-align: middle;\n",
              "    }\n",
              "\n",
              "    .dataframe tbody tr th {\n",
              "        vertical-align: top;\n",
              "    }\n",
              "\n",
              "    .dataframe thead th {\n",
              "        text-align: right;\n",
              "    }\n",
              "</style>\n",
              "<table border=\"1\" class=\"dataframe\">\n",
              "  <thead>\n",
              "    <tr style=\"text-align: right;\">\n",
              "      <th></th>\n",
              "      <th>FROM</th>\n",
              "      <th>ATTENDANCE</th>\n",
              "    </tr>\n",
              "  </thead>\n",
              "  <tbody>\n",
              "    <tr>\n",
              "      <th>0</th>\n",
              "      <td>Usha Dubey</td>\n",
              "      <td>PRESENT</td>\n",
              "    </tr>\n",
              "    <tr>\n",
              "      <th>4</th>\n",
              "      <td>Saksham Chandolia(10 C)</td>\n",
              "      <td>PRESENT</td>\n",
              "    </tr>\n",
              "    <tr>\n",
              "      <th>7</th>\n",
              "      <td>Rajat Bansal</td>\n",
              "      <td>PRESENT</td>\n",
              "    </tr>\n",
              "    <tr>\n",
              "      <th>8</th>\n",
              "      <td>Palak Saini</td>\n",
              "      <td>PRESENT</td>\n",
              "    </tr>\n",
              "    <tr>\n",
              "      <th>9</th>\n",
              "      <td>Mankirat Singh(X-C)</td>\n",
              "      <td>PRESENT</td>\n",
              "    </tr>\n",
              "  </tbody>\n",
              "</table>\n",
              "</div>"
            ],
            "text/plain": [
              "                         FROM ATTENDANCE\n",
              "0                 Usha Dubey     PRESENT\n",
              "4    Saksham Chandolia(10 C)     PRESENT\n",
              "7               Rajat Bansal     PRESENT\n",
              "8                Palak Saini     PRESENT\n",
              "9        Mankirat Singh(X-C)     PRESENT"
            ]
          },
          "metadata": {
            "tags": []
          },
          "execution_count": 39
        }
      ]
    },
    {
      "cell_type": "code",
      "metadata": {
        "id": "ygCByUvfhygO",
        "colab_type": "code",
        "colab": {
          "base_uri": "https://localhost:8080/",
          "height": 34
        },
        "outputId": "4a3d3655-0432-4875-b51a-74bcf60f666d"
      },
      "source": [
        "df.shape\n"
      ],
      "execution_count": 30,
      "outputs": [
        {
          "output_type": "execute_result",
          "data": {
            "text/plain": [
              "(98, 5)"
            ]
          },
          "metadata": {
            "tags": []
          },
          "execution_count": 30
        }
      ]
    },
    {
      "cell_type": "code",
      "metadata": {
        "id": "auxorjdall45",
        "colab_type": "code",
        "colab": {}
      },
      "source": [
        "df.drop_duplicates(subset = 'FROM', keep = False, inplace = True)"
      ],
      "execution_count": 0,
      "outputs": []
    },
    {
      "cell_type": "code",
      "metadata": {
        "id": "Bcw1KVwtl2GG",
        "colab_type": "code",
        "colab": {
          "base_uri": "https://localhost:8080/",
          "height": 1000
        },
        "outputId": "a0eeefaf-ea19-4d98-f211-b58907885e72"
      },
      "source": [
        "df[['FROM', 'ATTENDANCE']]"
      ],
      "execution_count": 36,
      "outputs": [
        {
          "output_type": "execute_result",
          "data": {
            "text/html": [
              "<div>\n",
              "<style scoped>\n",
              "    .dataframe tbody tr th:only-of-type {\n",
              "        vertical-align: middle;\n",
              "    }\n",
              "\n",
              "    .dataframe tbody tr th {\n",
              "        vertical-align: top;\n",
              "    }\n",
              "\n",
              "    .dataframe thead th {\n",
              "        text-align: right;\n",
              "    }\n",
              "</style>\n",
              "<table border=\"1\" class=\"dataframe\">\n",
              "  <thead>\n",
              "    <tr style=\"text-align: right;\">\n",
              "      <th></th>\n",
              "      <th>FROM</th>\n",
              "      <th>ATTENDANCE</th>\n",
              "    </tr>\n",
              "  </thead>\n",
              "  <tbody>\n",
              "    <tr>\n",
              "      <th>0</th>\n",
              "      <td>Usha Dubey</td>\n",
              "      <td>PRESENT</td>\n",
              "    </tr>\n",
              "    <tr>\n",
              "      <th>4</th>\n",
              "      <td>Saksham Chandolia(10 C)</td>\n",
              "      <td>PRESENT</td>\n",
              "    </tr>\n",
              "    <tr>\n",
              "      <th>7</th>\n",
              "      <td>Rajat Bansal</td>\n",
              "      <td>PRESENT</td>\n",
              "    </tr>\n",
              "    <tr>\n",
              "      <th>8</th>\n",
              "      <td>Palak Saini</td>\n",
              "      <td>PRESENT</td>\n",
              "    </tr>\n",
              "    <tr>\n",
              "      <th>9</th>\n",
              "      <td>Mankirat Singh(X-C)</td>\n",
              "      <td>PRESENT</td>\n",
              "    </tr>\n",
              "    <tr>\n",
              "      <th>10</th>\n",
              "      <td>Sanya Leekha</td>\n",
              "      <td>PRESENT</td>\n",
              "    </tr>\n",
              "    <tr>\n",
              "      <th>11</th>\n",
              "      <td>Anuj Garg</td>\n",
              "      <td>PRESENT</td>\n",
              "    </tr>\n",
              "    <tr>\n",
              "      <th>12</th>\n",
              "      <td>Ayush Khandelwal</td>\n",
              "      <td>PRESENT</td>\n",
              "    </tr>\n",
              "    <tr>\n",
              "      <th>14</th>\n",
              "      <td>Shaunak (X-C)</td>\n",
              "      <td>PRESENT</td>\n",
              "    </tr>\n",
              "    <tr>\n",
              "      <th>19</th>\n",
              "      <td>Garvit Khandelwal</td>\n",
              "      <td>PRESENT</td>\n",
              "    </tr>\n",
              "    <tr>\n",
              "      <th>20</th>\n",
              "      <td>Vansh Dua</td>\n",
              "      <td>PRESENT</td>\n",
              "    </tr>\n",
              "    <tr>\n",
              "      <th>21</th>\n",
              "      <td>Shruti Arora</td>\n",
              "      <td>PRESENT</td>\n",
              "    </tr>\n",
              "    <tr>\n",
              "      <th>22</th>\n",
              "      <td>Avni Gupta</td>\n",
              "      <td>PRESENT</td>\n",
              "    </tr>\n",
              "    <tr>\n",
              "      <th>23</th>\n",
              "      <td>😎🔥Pratham Sharma😎🔥</td>\n",
              "      <td>PRESENT</td>\n",
              "    </tr>\n",
              "    <tr>\n",
              "      <th>24</th>\n",
              "      <td>Vaibhav</td>\n",
              "      <td>PRESENT</td>\n",
              "    </tr>\n",
              "    <tr>\n",
              "      <th>25</th>\n",
              "      <td>Krish Garg</td>\n",
              "      <td>PRESENT</td>\n",
              "    </tr>\n",
              "    <tr>\n",
              "      <th>26</th>\n",
              "      <td>Harshit[10/C]</td>\n",
              "      <td>PRESENT</td>\n",
              "    </tr>\n",
              "    <tr>\n",
              "      <th>27</th>\n",
              "      <td>Srishti Vats</td>\n",
              "      <td>PRESENT</td>\n",
              "    </tr>\n",
              "    <tr>\n",
              "      <th>28</th>\n",
              "      <td>Hiya Harjai</td>\n",
              "      <td>PRESENT</td>\n",
              "    </tr>\n",
              "    <tr>\n",
              "      <th>29</th>\n",
              "      <td>Aditi</td>\n",
              "      <td>PRESENT</td>\n",
              "    </tr>\n",
              "    <tr>\n",
              "      <th>34</th>\n",
              "      <td>Dev</td>\n",
              "      <td>PRESENT</td>\n",
              "    </tr>\n",
              "    <tr>\n",
              "      <th>37</th>\n",
              "      <td>Riya Srivastava</td>\n",
              "      <td>PRESENT</td>\n",
              "    </tr>\n",
              "    <tr>\n",
              "      <th>40</th>\n",
              "      <td>Ms Vohra</td>\n",
              "      <td>PRESENT</td>\n",
              "    </tr>\n",
              "    <tr>\n",
              "      <th>41</th>\n",
              "      <td>Riya Vij</td>\n",
              "      <td>PRESENT</td>\n",
              "    </tr>\n",
              "    <tr>\n",
              "      <th>43</th>\n",
              "      <td>Akshat Khandelwal</td>\n",
              "      <td>PRESENT</td>\n",
              "    </tr>\n",
              "    <tr>\n",
              "      <th>44</th>\n",
              "      <td>😎Dhruv Yadav😎</td>\n",
              "      <td>PRESENT</td>\n",
              "    </tr>\n",
              "    <tr>\n",
              "      <th>45</th>\n",
              "      <td>Binti Suri</td>\n",
              "      <td>PRESENT</td>\n",
              "    </tr>\n",
              "    <tr>\n",
              "      <th>46</th>\n",
              "      <td>Mysha Karim Baksh</td>\n",
              "      <td>PRESENT</td>\n",
              "    </tr>\n",
              "    <tr>\n",
              "      <th>49</th>\n",
              "      <td>Bharat Gupta</td>\n",
              "      <td>PRESENT</td>\n",
              "    </tr>\n",
              "    <tr>\n",
              "      <th>50</th>\n",
              "      <td>Srishti Yadav</td>\n",
              "      <td>PRESENT</td>\n",
              "    </tr>\n",
              "    <tr>\n",
              "      <th>51</th>\n",
              "      <td>Tanvi Jain</td>\n",
              "      <td>PRESENT</td>\n",
              "    </tr>\n",
              "    <tr>\n",
              "      <th>54</th>\n",
              "      <td>Manan Malik</td>\n",
              "      <td>PRESENT</td>\n",
              "    </tr>\n",
              "    <tr>\n",
              "      <th>55</th>\n",
              "      <td>Aaryan Verma</td>\n",
              "      <td>PRESENT</td>\n",
              "    </tr>\n",
              "    <tr>\n",
              "      <th>57</th>\n",
              "      <td>Harsh Singh</td>\n",
              "      <td>PRESENT</td>\n",
              "    </tr>\n",
              "    <tr>\n",
              "      <th>59</th>\n",
              "      <td>Vani Jaiswal ( X - B )</td>\n",
              "      <td>PRESENT</td>\n",
              "    </tr>\n",
              "    <tr>\n",
              "      <th>62</th>\n",
              "      <td>Akshita</td>\n",
              "      <td>PRESENT</td>\n",
              "    </tr>\n",
              "    <tr>\n",
              "      <th>64</th>\n",
              "      <td>Vinayak</td>\n",
              "      <td>PRESENT</td>\n",
              "    </tr>\n",
              "    <tr>\n",
              "      <th>65</th>\n",
              "      <td>Bovin Chopra</td>\n",
              "      <td>PRESENT</td>\n",
              "    </tr>\n",
              "    <tr>\n",
              "      <th>66</th>\n",
              "      <td>Garvita Gogia</td>\n",
              "      <td>PRESENT</td>\n",
              "    </tr>\n",
              "    <tr>\n",
              "      <th>67</th>\n",
              "      <td>Nikhil</td>\n",
              "      <td>PRESENT</td>\n",
              "    </tr>\n",
              "    <tr>\n",
              "      <th>68</th>\n",
              "      <td>Anuj Kansotia</td>\n",
              "      <td>PRESENT</td>\n",
              "    </tr>\n",
              "    <tr>\n",
              "      <th>69</th>\n",
              "      <td>Sonakshi Dogra</td>\n",
              "      <td>PRESENT</td>\n",
              "    </tr>\n",
              "    <tr>\n",
              "      <th>70</th>\n",
              "      <td>Chiragbhuranda</td>\n",
              "      <td>PRESENT</td>\n",
              "    </tr>\n",
              "    <tr>\n",
              "      <th>72</th>\n",
              "      <td>Vansh Banderwal (X-B)</td>\n",
              "      <td>PRESENT</td>\n",
              "    </tr>\n",
              "    <tr>\n",
              "      <th>73</th>\n",
              "      <td>Shubh</td>\n",
              "      <td>PRESENT</td>\n",
              "    </tr>\n",
              "    <tr>\n",
              "      <th>74</th>\n",
              "      <td>Aditya Khandelwal</td>\n",
              "      <td>PRESENT</td>\n",
              "    </tr>\n",
              "    <tr>\n",
              "      <th>75</th>\n",
              "      <td>Vidhi Dhawan</td>\n",
              "      <td>PRESENT</td>\n",
              "    </tr>\n",
              "    <tr>\n",
              "      <th>76</th>\n",
              "      <td>Karan Gaur</td>\n",
              "      <td>PRESENT</td>\n",
              "    </tr>\n",
              "    <tr>\n",
              "      <th>78</th>\n",
              "      <td>Swastik Singhal</td>\n",
              "      <td>PRESENT</td>\n",
              "    </tr>\n",
              "    <tr>\n",
              "      <th>80</th>\n",
              "      <td>Vikram Kumar</td>\n",
              "      <td>PRESENT</td>\n",
              "    </tr>\n",
              "    <tr>\n",
              "      <th>81</th>\n",
              "      <td>Yashika Aggarwal</td>\n",
              "      <td>PRESENT</td>\n",
              "    </tr>\n",
              "    <tr>\n",
              "      <th>90</th>\n",
              "      <td>Jyotika Sharma</td>\n",
              "      <td>PRESENT</td>\n",
              "    </tr>\n",
              "  </tbody>\n",
              "</table>\n",
              "</div>"
            ],
            "text/plain": [
              "                          FROM ATTENDANCE\n",
              "0                  Usha Dubey     PRESENT\n",
              "4     Saksham Chandolia(10 C)     PRESENT\n",
              "7                Rajat Bansal     PRESENT\n",
              "8                 Palak Saini     PRESENT\n",
              "9         Mankirat Singh(X-C)     PRESENT\n",
              "10               Sanya Leekha     PRESENT\n",
              "11                  Anuj Garg     PRESENT\n",
              "12         Ayush Khandelwal       PRESENT\n",
              "14              Shaunak (X-C)     PRESENT\n",
              "19          Garvit Khandelwal     PRESENT\n",
              "20                  Vansh Dua     PRESENT\n",
              "21               Shruti Arora     PRESENT\n",
              "22                 Avni Gupta     PRESENT\n",
              "23       😎🔥Pratham Sharma😎🔥       PRESENT\n",
              "24                    Vaibhav     PRESENT\n",
              "25                 Krish Garg     PRESENT\n",
              "26              Harshit[10/C]     PRESENT\n",
              "27               Srishti Vats     PRESENT\n",
              "28                Hiya Harjai     PRESENT\n",
              "29                      Aditi     PRESENT\n",
              "34                      Dev       PRESENT\n",
              "37            Riya Srivastava     PRESENT\n",
              "40                   Ms Vohra     PRESENT\n",
              "41                   Riya Vij     PRESENT\n",
              "43          Akshat Khandelwal     PRESENT\n",
              "44              😎Dhruv Yadav😎     PRESENT\n",
              "45               Binti Suri       PRESENT\n",
              "46          Mysha Karim Baksh     PRESENT\n",
              "49             Bharat Gupta       PRESENT\n",
              "50              Srishti Yadav     PRESENT\n",
              "51                 Tanvi Jain     PRESENT\n",
              "54                Manan Malik     PRESENT\n",
              "55               Aaryan Verma     PRESENT\n",
              "57                Harsh Singh     PRESENT\n",
              "59     Vani Jaiswal ( X - B )     PRESENT\n",
              "62                   Akshita      PRESENT\n",
              "64                    Vinayak     PRESENT\n",
              "65               Bovin Chopra     PRESENT\n",
              "66              Garvita Gogia     PRESENT\n",
              "67                     Nikhil     PRESENT\n",
              "68              Anuj Kansotia     PRESENT\n",
              "69             Sonakshi Dogra     PRESENT\n",
              "70             Chiragbhuranda     PRESENT\n",
              "72      Vansh Banderwal (X-B)     PRESENT\n",
              "73                      Shubh     PRESENT\n",
              "74          Aditya Khandelwal     PRESENT\n",
              "75               Vidhi Dhawan     PRESENT\n",
              "76                 Karan Gaur     PRESENT\n",
              "78            Swastik Singhal     PRESENT\n",
              "80               Vikram Kumar     PRESENT\n",
              "81           Yashika Aggarwal     PRESENT\n",
              "90             Jyotika Sharma     PRESENT"
            ]
          },
          "metadata": {
            "tags": []
          },
          "execution_count": 36
        }
      ]
    },
    {
      "cell_type": "code",
      "metadata": {
        "id": "84Ayxtdgqdmx",
        "colab_type": "code",
        "colab": {}
      },
      "source": [
        "f.close()"
      ],
      "execution_count": 0,
      "outputs": []
    },
    {
      "cell_type": "code",
      "metadata": {
        "id": "wVylkMecsA8S",
        "colab_type": "code",
        "colab": {}
      },
      "source": [
        ""
      ],
      "execution_count": 0,
      "outputs": []
    }
  ]
}